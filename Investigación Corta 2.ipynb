{
 "cells": [
  {
   "cell_type": "markdown",
   "id": "short-hostel",
   "metadata": {},
   "source": [
    "# Investigación Corta 2"
   ]
  },
  {
   "cell_type": "markdown",
   "id": "polar-broadcast",
   "metadata": {},
   "source": [
    "## Pre-procesamiento de los datos\n",
    "\n",
    "El pre-procesado es la primera etapa en el aprendizaje automatizado (Machine Learning). Se le aplica a todos los set de datos que se decean procesar y analisar."
   ]
  },
  {
   "cell_type": "markdown",
   "id": "worse-continuity",
   "metadata": {},
   "source": [
    "Primero que todo se importan las librerías necesarias."
   ]
  },
  {
   "cell_type": "code",
   "execution_count": 18,
   "id": "documented-sleep",
   "metadata": {},
   "outputs": [],
   "source": [
    "# Librería para el majeno de set de datos\n",
    "import pandas as pd\n",
    "# Librería numérica\n",
    "import numpy as np\n",
    "# Librería para graficar\n",
    "import matplotlib.pyplot as plt\n",
    "# Librería para contar el números de elementos de una clase\n",
    "from collections import Counter\n",
    "# Librería para el balanceo de datos usando sobre muestreo\n",
    "from imblearn.over_sampling import ADASYN\n",
    "# Librería para estandarizar datos\n",
    "from sklearn.preprocessing import StandardScaler\n",
    "# Librería para dividir el dataset en entrenamiento y prueba\n",
    "from sklearn.model_selection import train_test_split\n",
    "# Librerías para los distintos tipose de modelos de aprendizaje automatizado\n",
    "from sklearn.linear_model import LogisticRegression\n",
    "from sklearn.svm import SVC\n",
    "from sklearn.neighbors import KNeighborsClassifier\n",
    "from sklearn.naive_bayes import GaussianNB\n",
    "from sklearn.discriminant_analysis import LinearDiscriminantAnalysis as LDA\n",
    "# Librería para las métricas de evaluación\n",
    "from sklearn.metrics import accuracy_score\n",
    "from sklearn.metrics import recall_score\n",
    "from sklearn.metrics import f1_score\n",
    "from sklearn.model_selection import cross_val_score"
   ]
  },
  {
   "cell_type": "markdown",
   "id": "flush-czech",
   "metadata": {},
   "source": [
    "Posteriormente se cargar el *dataset*."
   ]
  },
  {
   "cell_type": "code",
   "execution_count": 19,
   "id": "second-grave",
   "metadata": {},
   "outputs": [
    {
     "data": {
      "text/html": [
       "<div>\n",
       "<style scoped>\n",
       "    .dataframe tbody tr th:only-of-type {\n",
       "        vertical-align: middle;\n",
       "    }\n",
       "\n",
       "    .dataframe tbody tr th {\n",
       "        vertical-align: top;\n",
       "    }\n",
       "\n",
       "    .dataframe thead th {\n",
       "        text-align: right;\n",
       "    }\n",
       "</style>\n",
       "<table border=\"1\" class=\"dataframe\">\n",
       "  <thead>\n",
       "    <tr style=\"text-align: right;\">\n",
       "      <th></th>\n",
       "      <th>\"\"</th>\n",
       "      <th>\"Category\"</th>\n",
       "      <th>\"Age\"</th>\n",
       "      <th>\"Sex\"</th>\n",
       "      <th>\"ALB\"</th>\n",
       "      <th>\"ALP\"</th>\n",
       "      <th>\"ALT\"</th>\n",
       "      <th>\"AST\"</th>\n",
       "      <th>\"BIL\"</th>\n",
       "      <th>\"CHE\"</th>\n",
       "      <th>\"CHOL\"</th>\n",
       "      <th>\"CREA\"</th>\n",
       "      <th>\"GGT\"</th>\n",
       "      <th>\"PROT\"</th>\n",
       "    </tr>\n",
       "  </thead>\n",
       "  <tbody>\n",
       "    <tr>\n",
       "      <th>0</th>\n",
       "      <td>\"1\"</td>\n",
       "      <td>\"0=Blood Donor\"</td>\n",
       "      <td>32</td>\n",
       "      <td>\"m\"</td>\n",
       "      <td>38.5</td>\n",
       "      <td>52.5</td>\n",
       "      <td>7.7</td>\n",
       "      <td>22.1</td>\n",
       "      <td>7.5</td>\n",
       "      <td>6.93</td>\n",
       "      <td>3.23</td>\n",
       "      <td>106.0</td>\n",
       "      <td>12.1</td>\n",
       "      <td>69.0</td>\n",
       "    </tr>\n",
       "    <tr>\n",
       "      <th>1</th>\n",
       "      <td>\"2\"</td>\n",
       "      <td>\"0=Blood Donor\"</td>\n",
       "      <td>32</td>\n",
       "      <td>\"m\"</td>\n",
       "      <td>38.5</td>\n",
       "      <td>70.3</td>\n",
       "      <td>18.0</td>\n",
       "      <td>24.7</td>\n",
       "      <td>3.9</td>\n",
       "      <td>11.17</td>\n",
       "      <td>4.80</td>\n",
       "      <td>74.0</td>\n",
       "      <td>15.6</td>\n",
       "      <td>76.5</td>\n",
       "    </tr>\n",
       "    <tr>\n",
       "      <th>2</th>\n",
       "      <td>\"3\"</td>\n",
       "      <td>\"0=Blood Donor\"</td>\n",
       "      <td>32</td>\n",
       "      <td>\"m\"</td>\n",
       "      <td>46.9</td>\n",
       "      <td>74.7</td>\n",
       "      <td>36.2</td>\n",
       "      <td>52.6</td>\n",
       "      <td>6.1</td>\n",
       "      <td>8.84</td>\n",
       "      <td>5.20</td>\n",
       "      <td>86.0</td>\n",
       "      <td>33.2</td>\n",
       "      <td>79.3</td>\n",
       "    </tr>\n",
       "    <tr>\n",
       "      <th>3</th>\n",
       "      <td>\"4\"</td>\n",
       "      <td>\"0=Blood Donor\"</td>\n",
       "      <td>32</td>\n",
       "      <td>\"m\"</td>\n",
       "      <td>43.2</td>\n",
       "      <td>52.0</td>\n",
       "      <td>30.6</td>\n",
       "      <td>22.6</td>\n",
       "      <td>18.9</td>\n",
       "      <td>7.33</td>\n",
       "      <td>4.74</td>\n",
       "      <td>80.0</td>\n",
       "      <td>33.8</td>\n",
       "      <td>75.7</td>\n",
       "    </tr>\n",
       "    <tr>\n",
       "      <th>4</th>\n",
       "      <td>\"5\"</td>\n",
       "      <td>\"0=Blood Donor\"</td>\n",
       "      <td>32</td>\n",
       "      <td>\"m\"</td>\n",
       "      <td>39.2</td>\n",
       "      <td>74.1</td>\n",
       "      <td>32.6</td>\n",
       "      <td>24.8</td>\n",
       "      <td>9.6</td>\n",
       "      <td>9.15</td>\n",
       "      <td>4.32</td>\n",
       "      <td>76.0</td>\n",
       "      <td>29.9</td>\n",
       "      <td>68.7</td>\n",
       "    </tr>\n",
       "  </tbody>\n",
       "</table>\n",
       "</div>"
      ],
      "text/plain": [
       "    \"\"       \"Category\"  \"Age\" \"Sex\"  \"ALB\"  \"ALP\"  \"ALT\"  \"AST\"  \"BIL\"  \\\n",
       "0  \"1\"  \"0=Blood Donor\"     32   \"m\"   38.5   52.5    7.7   22.1    7.5   \n",
       "1  \"2\"  \"0=Blood Donor\"     32   \"m\"   38.5   70.3   18.0   24.7    3.9   \n",
       "2  \"3\"  \"0=Blood Donor\"     32   \"m\"   46.9   74.7   36.2   52.6    6.1   \n",
       "3  \"4\"  \"0=Blood Donor\"     32   \"m\"   43.2   52.0   30.6   22.6   18.9   \n",
       "4  \"5\"  \"0=Blood Donor\"     32   \"m\"   39.2   74.1   32.6   24.8    9.6   \n",
       "\n",
       "   \"CHE\"  \"CHOL\"  \"CREA\"  \"GGT\"  \"PROT\"  \n",
       "0   6.93    3.23   106.0   12.1    69.0  \n",
       "1  11.17    4.80    74.0   15.6    76.5  \n",
       "2   8.84    5.20    86.0   33.2    79.3  \n",
       "3   7.33    4.74    80.0   33.8    75.7  \n",
       "4   9.15    4.32    76.0   29.9    68.7  "
      ]
     },
     "execution_count": 19,
     "metadata": {},
     "output_type": "execute_result"
    }
   ],
   "source": [
    "filename = \"hcvdat0.csv\"\n",
    "df = pd.read_csv(filename,engine=\"python\",delimiter='\\,')\n",
    "df.head()"
   ]
  },
  {
   "cell_type": "markdown",
   "id": "visible-pixel",
   "metadata": {},
   "source": [
    "Mejorar un poco los nombres de las columnas"
   ]
  },
  {
   "cell_type": "code",
   "execution_count": 20,
   "id": "authentic-yacht",
   "metadata": {},
   "outputs": [
    {
     "data": {
      "text/html": [
       "<div>\n",
       "<style scoped>\n",
       "    .dataframe tbody tr th:only-of-type {\n",
       "        vertical-align: middle;\n",
       "    }\n",
       "\n",
       "    .dataframe tbody tr th {\n",
       "        vertical-align: top;\n",
       "    }\n",
       "\n",
       "    .dataframe thead th {\n",
       "        text-align: right;\n",
       "    }\n",
       "</style>\n",
       "<table border=\"1\" class=\"dataframe\">\n",
       "  <thead>\n",
       "    <tr style=\"text-align: right;\">\n",
       "      <th></th>\n",
       "      <th></th>\n",
       "      <th>Category</th>\n",
       "      <th>Age</th>\n",
       "      <th>Sex</th>\n",
       "      <th>ALB</th>\n",
       "      <th>ALP</th>\n",
       "      <th>ALT</th>\n",
       "      <th>AST</th>\n",
       "      <th>BIL</th>\n",
       "      <th>CHE</th>\n",
       "      <th>CHOL</th>\n",
       "      <th>CREA</th>\n",
       "      <th>GGT</th>\n",
       "      <th>PROT</th>\n",
       "    </tr>\n",
       "  </thead>\n",
       "  <tbody>\n",
       "    <tr>\n",
       "      <th>0</th>\n",
       "      <td>\"1\"</td>\n",
       "      <td>\"0=Blood Donor\"</td>\n",
       "      <td>32</td>\n",
       "      <td>\"m\"</td>\n",
       "      <td>38.5</td>\n",
       "      <td>52.5</td>\n",
       "      <td>7.7</td>\n",
       "      <td>22.1</td>\n",
       "      <td>7.5</td>\n",
       "      <td>6.93</td>\n",
       "      <td>3.23</td>\n",
       "      <td>106.0</td>\n",
       "      <td>12.1</td>\n",
       "      <td>69.0</td>\n",
       "    </tr>\n",
       "    <tr>\n",
       "      <th>1</th>\n",
       "      <td>\"2\"</td>\n",
       "      <td>\"0=Blood Donor\"</td>\n",
       "      <td>32</td>\n",
       "      <td>\"m\"</td>\n",
       "      <td>38.5</td>\n",
       "      <td>70.3</td>\n",
       "      <td>18.0</td>\n",
       "      <td>24.7</td>\n",
       "      <td>3.9</td>\n",
       "      <td>11.17</td>\n",
       "      <td>4.80</td>\n",
       "      <td>74.0</td>\n",
       "      <td>15.6</td>\n",
       "      <td>76.5</td>\n",
       "    </tr>\n",
       "    <tr>\n",
       "      <th>2</th>\n",
       "      <td>\"3\"</td>\n",
       "      <td>\"0=Blood Donor\"</td>\n",
       "      <td>32</td>\n",
       "      <td>\"m\"</td>\n",
       "      <td>46.9</td>\n",
       "      <td>74.7</td>\n",
       "      <td>36.2</td>\n",
       "      <td>52.6</td>\n",
       "      <td>6.1</td>\n",
       "      <td>8.84</td>\n",
       "      <td>5.20</td>\n",
       "      <td>86.0</td>\n",
       "      <td>33.2</td>\n",
       "      <td>79.3</td>\n",
       "    </tr>\n",
       "    <tr>\n",
       "      <th>3</th>\n",
       "      <td>\"4\"</td>\n",
       "      <td>\"0=Blood Donor\"</td>\n",
       "      <td>32</td>\n",
       "      <td>\"m\"</td>\n",
       "      <td>43.2</td>\n",
       "      <td>52.0</td>\n",
       "      <td>30.6</td>\n",
       "      <td>22.6</td>\n",
       "      <td>18.9</td>\n",
       "      <td>7.33</td>\n",
       "      <td>4.74</td>\n",
       "      <td>80.0</td>\n",
       "      <td>33.8</td>\n",
       "      <td>75.7</td>\n",
       "    </tr>\n",
       "    <tr>\n",
       "      <th>4</th>\n",
       "      <td>\"5\"</td>\n",
       "      <td>\"0=Blood Donor\"</td>\n",
       "      <td>32</td>\n",
       "      <td>\"m\"</td>\n",
       "      <td>39.2</td>\n",
       "      <td>74.1</td>\n",
       "      <td>32.6</td>\n",
       "      <td>24.8</td>\n",
       "      <td>9.6</td>\n",
       "      <td>9.15</td>\n",
       "      <td>4.32</td>\n",
       "      <td>76.0</td>\n",
       "      <td>29.9</td>\n",
       "      <td>68.7</td>\n",
       "    </tr>\n",
       "    <tr>\n",
       "      <th>...</th>\n",
       "      <td>...</td>\n",
       "      <td>...</td>\n",
       "      <td>...</td>\n",
       "      <td>...</td>\n",
       "      <td>...</td>\n",
       "      <td>...</td>\n",
       "      <td>...</td>\n",
       "      <td>...</td>\n",
       "      <td>...</td>\n",
       "      <td>...</td>\n",
       "      <td>...</td>\n",
       "      <td>...</td>\n",
       "      <td>...</td>\n",
       "      <td>...</td>\n",
       "    </tr>\n",
       "    <tr>\n",
       "      <th>610</th>\n",
       "      <td>\"611\"</td>\n",
       "      <td>\"3=Cirrhosis\"</td>\n",
       "      <td>62</td>\n",
       "      <td>\"f\"</td>\n",
       "      <td>32.0</td>\n",
       "      <td>416.6</td>\n",
       "      <td>5.9</td>\n",
       "      <td>110.3</td>\n",
       "      <td>50.0</td>\n",
       "      <td>5.57</td>\n",
       "      <td>6.30</td>\n",
       "      <td>55.7</td>\n",
       "      <td>650.9</td>\n",
       "      <td>68.5</td>\n",
       "    </tr>\n",
       "    <tr>\n",
       "      <th>611</th>\n",
       "      <td>\"612\"</td>\n",
       "      <td>\"3=Cirrhosis\"</td>\n",
       "      <td>64</td>\n",
       "      <td>\"f\"</td>\n",
       "      <td>24.0</td>\n",
       "      <td>102.8</td>\n",
       "      <td>2.9</td>\n",
       "      <td>44.4</td>\n",
       "      <td>20.0</td>\n",
       "      <td>1.54</td>\n",
       "      <td>3.02</td>\n",
       "      <td>63.0</td>\n",
       "      <td>35.9</td>\n",
       "      <td>71.3</td>\n",
       "    </tr>\n",
       "    <tr>\n",
       "      <th>612</th>\n",
       "      <td>\"613\"</td>\n",
       "      <td>\"3=Cirrhosis\"</td>\n",
       "      <td>64</td>\n",
       "      <td>\"f\"</td>\n",
       "      <td>29.0</td>\n",
       "      <td>87.3</td>\n",
       "      <td>3.5</td>\n",
       "      <td>99.0</td>\n",
       "      <td>48.0</td>\n",
       "      <td>1.66</td>\n",
       "      <td>3.63</td>\n",
       "      <td>66.7</td>\n",
       "      <td>64.2</td>\n",
       "      <td>82.0</td>\n",
       "    </tr>\n",
       "    <tr>\n",
       "      <th>613</th>\n",
       "      <td>\"614\"</td>\n",
       "      <td>\"3=Cirrhosis\"</td>\n",
       "      <td>46</td>\n",
       "      <td>\"f\"</td>\n",
       "      <td>33.0</td>\n",
       "      <td>NaN</td>\n",
       "      <td>39.0</td>\n",
       "      <td>62.0</td>\n",
       "      <td>20.0</td>\n",
       "      <td>3.56</td>\n",
       "      <td>4.20</td>\n",
       "      <td>52.0</td>\n",
       "      <td>50.0</td>\n",
       "      <td>71.0</td>\n",
       "    </tr>\n",
       "    <tr>\n",
       "      <th>614</th>\n",
       "      <td>\"615\"</td>\n",
       "      <td>\"3=Cirrhosis\"</td>\n",
       "      <td>59</td>\n",
       "      <td>\"f\"</td>\n",
       "      <td>36.0</td>\n",
       "      <td>NaN</td>\n",
       "      <td>100.0</td>\n",
       "      <td>80.0</td>\n",
       "      <td>12.0</td>\n",
       "      <td>9.07</td>\n",
       "      <td>5.30</td>\n",
       "      <td>67.0</td>\n",
       "      <td>34.0</td>\n",
       "      <td>68.0</td>\n",
       "    </tr>\n",
       "  </tbody>\n",
       "</table>\n",
       "<p>615 rows × 14 columns</p>\n",
       "</div>"
      ],
      "text/plain": [
       "                   Category  Age  Sex   ALB    ALP    ALT    AST   BIL    CHE  \\\n",
       "0      \"1\"  \"0=Blood Donor\"   32  \"m\"  38.5   52.5    7.7   22.1   7.5   6.93   \n",
       "1      \"2\"  \"0=Blood Donor\"   32  \"m\"  38.5   70.3   18.0   24.7   3.9  11.17   \n",
       "2      \"3\"  \"0=Blood Donor\"   32  \"m\"  46.9   74.7   36.2   52.6   6.1   8.84   \n",
       "3      \"4\"  \"0=Blood Donor\"   32  \"m\"  43.2   52.0   30.6   22.6  18.9   7.33   \n",
       "4      \"5\"  \"0=Blood Donor\"   32  \"m\"  39.2   74.1   32.6   24.8   9.6   9.15   \n",
       "..     ...              ...  ...  ...   ...    ...    ...    ...   ...    ...   \n",
       "610  \"611\"    \"3=Cirrhosis\"   62  \"f\"  32.0  416.6    5.9  110.3  50.0   5.57   \n",
       "611  \"612\"    \"3=Cirrhosis\"   64  \"f\"  24.0  102.8    2.9   44.4  20.0   1.54   \n",
       "612  \"613\"    \"3=Cirrhosis\"   64  \"f\"  29.0   87.3    3.5   99.0  48.0   1.66   \n",
       "613  \"614\"    \"3=Cirrhosis\"   46  \"f\"  33.0    NaN   39.0   62.0  20.0   3.56   \n",
       "614  \"615\"    \"3=Cirrhosis\"   59  \"f\"  36.0    NaN  100.0   80.0  12.0   9.07   \n",
       "\n",
       "     CHOL   CREA    GGT  PROT  \n",
       "0    3.23  106.0   12.1  69.0  \n",
       "1    4.80   74.0   15.6  76.5  \n",
       "2    5.20   86.0   33.2  79.3  \n",
       "3    4.74   80.0   33.8  75.7  \n",
       "4    4.32   76.0   29.9  68.7  \n",
       "..    ...    ...    ...   ...  \n",
       "610  6.30   55.7  650.9  68.5  \n",
       "611  3.02   63.0   35.9  71.3  \n",
       "612  3.63   66.7   64.2  82.0  \n",
       "613  4.20   52.0   50.0  71.0  \n",
       "614  5.30   67.0   34.0  68.0  \n",
       "\n",
       "[615 rows x 14 columns]"
      ]
     },
     "execution_count": 20,
     "metadata": {},
     "output_type": "execute_result"
    }
   ],
   "source": [
    "for label in df.columns:\n",
    "    df.rename({label:label[1:len(label)-1]},axis=1,inplace=True)\n",
    "df"
   ]
  },
  {
   "cell_type": "markdown",
   "id": "clear-bikini",
   "metadata": {},
   "source": [
    "La primera columna no aporta nada. Así que se puede eliminar."
   ]
  },
  {
   "cell_type": "code",
   "execution_count": 21,
   "id": "classified-bridal",
   "metadata": {},
   "outputs": [
    {
     "data": {
      "text/html": [
       "<div>\n",
       "<style scoped>\n",
       "    .dataframe tbody tr th:only-of-type {\n",
       "        vertical-align: middle;\n",
       "    }\n",
       "\n",
       "    .dataframe tbody tr th {\n",
       "        vertical-align: top;\n",
       "    }\n",
       "\n",
       "    .dataframe thead th {\n",
       "        text-align: right;\n",
       "    }\n",
       "</style>\n",
       "<table border=\"1\" class=\"dataframe\">\n",
       "  <thead>\n",
       "    <tr style=\"text-align: right;\">\n",
       "      <th></th>\n",
       "      <th>Category</th>\n",
       "      <th>Age</th>\n",
       "      <th>Sex</th>\n",
       "      <th>ALB</th>\n",
       "      <th>ALP</th>\n",
       "      <th>ALT</th>\n",
       "      <th>AST</th>\n",
       "      <th>BIL</th>\n",
       "      <th>CHE</th>\n",
       "      <th>CHOL</th>\n",
       "      <th>CREA</th>\n",
       "      <th>GGT</th>\n",
       "      <th>PROT</th>\n",
       "    </tr>\n",
       "  </thead>\n",
       "  <tbody>\n",
       "    <tr>\n",
       "      <th>0</th>\n",
       "      <td>\"0=Blood Donor\"</td>\n",
       "      <td>32</td>\n",
       "      <td>\"m\"</td>\n",
       "      <td>38.5</td>\n",
       "      <td>52.5</td>\n",
       "      <td>7.7</td>\n",
       "      <td>22.1</td>\n",
       "      <td>7.5</td>\n",
       "      <td>6.93</td>\n",
       "      <td>3.23</td>\n",
       "      <td>106.0</td>\n",
       "      <td>12.1</td>\n",
       "      <td>69.0</td>\n",
       "    </tr>\n",
       "    <tr>\n",
       "      <th>1</th>\n",
       "      <td>\"0=Blood Donor\"</td>\n",
       "      <td>32</td>\n",
       "      <td>\"m\"</td>\n",
       "      <td>38.5</td>\n",
       "      <td>70.3</td>\n",
       "      <td>18.0</td>\n",
       "      <td>24.7</td>\n",
       "      <td>3.9</td>\n",
       "      <td>11.17</td>\n",
       "      <td>4.80</td>\n",
       "      <td>74.0</td>\n",
       "      <td>15.6</td>\n",
       "      <td>76.5</td>\n",
       "    </tr>\n",
       "    <tr>\n",
       "      <th>2</th>\n",
       "      <td>\"0=Blood Donor\"</td>\n",
       "      <td>32</td>\n",
       "      <td>\"m\"</td>\n",
       "      <td>46.9</td>\n",
       "      <td>74.7</td>\n",
       "      <td>36.2</td>\n",
       "      <td>52.6</td>\n",
       "      <td>6.1</td>\n",
       "      <td>8.84</td>\n",
       "      <td>5.20</td>\n",
       "      <td>86.0</td>\n",
       "      <td>33.2</td>\n",
       "      <td>79.3</td>\n",
       "    </tr>\n",
       "    <tr>\n",
       "      <th>3</th>\n",
       "      <td>\"0=Blood Donor\"</td>\n",
       "      <td>32</td>\n",
       "      <td>\"m\"</td>\n",
       "      <td>43.2</td>\n",
       "      <td>52.0</td>\n",
       "      <td>30.6</td>\n",
       "      <td>22.6</td>\n",
       "      <td>18.9</td>\n",
       "      <td>7.33</td>\n",
       "      <td>4.74</td>\n",
       "      <td>80.0</td>\n",
       "      <td>33.8</td>\n",
       "      <td>75.7</td>\n",
       "    </tr>\n",
       "    <tr>\n",
       "      <th>4</th>\n",
       "      <td>\"0=Blood Donor\"</td>\n",
       "      <td>32</td>\n",
       "      <td>\"m\"</td>\n",
       "      <td>39.2</td>\n",
       "      <td>74.1</td>\n",
       "      <td>32.6</td>\n",
       "      <td>24.8</td>\n",
       "      <td>9.6</td>\n",
       "      <td>9.15</td>\n",
       "      <td>4.32</td>\n",
       "      <td>76.0</td>\n",
       "      <td>29.9</td>\n",
       "      <td>68.7</td>\n",
       "    </tr>\n",
       "    <tr>\n",
       "      <th>...</th>\n",
       "      <td>...</td>\n",
       "      <td>...</td>\n",
       "      <td>...</td>\n",
       "      <td>...</td>\n",
       "      <td>...</td>\n",
       "      <td>...</td>\n",
       "      <td>...</td>\n",
       "      <td>...</td>\n",
       "      <td>...</td>\n",
       "      <td>...</td>\n",
       "      <td>...</td>\n",
       "      <td>...</td>\n",
       "      <td>...</td>\n",
       "    </tr>\n",
       "    <tr>\n",
       "      <th>610</th>\n",
       "      <td>\"3=Cirrhosis\"</td>\n",
       "      <td>62</td>\n",
       "      <td>\"f\"</td>\n",
       "      <td>32.0</td>\n",
       "      <td>416.6</td>\n",
       "      <td>5.9</td>\n",
       "      <td>110.3</td>\n",
       "      <td>50.0</td>\n",
       "      <td>5.57</td>\n",
       "      <td>6.30</td>\n",
       "      <td>55.7</td>\n",
       "      <td>650.9</td>\n",
       "      <td>68.5</td>\n",
       "    </tr>\n",
       "    <tr>\n",
       "      <th>611</th>\n",
       "      <td>\"3=Cirrhosis\"</td>\n",
       "      <td>64</td>\n",
       "      <td>\"f\"</td>\n",
       "      <td>24.0</td>\n",
       "      <td>102.8</td>\n",
       "      <td>2.9</td>\n",
       "      <td>44.4</td>\n",
       "      <td>20.0</td>\n",
       "      <td>1.54</td>\n",
       "      <td>3.02</td>\n",
       "      <td>63.0</td>\n",
       "      <td>35.9</td>\n",
       "      <td>71.3</td>\n",
       "    </tr>\n",
       "    <tr>\n",
       "      <th>612</th>\n",
       "      <td>\"3=Cirrhosis\"</td>\n",
       "      <td>64</td>\n",
       "      <td>\"f\"</td>\n",
       "      <td>29.0</td>\n",
       "      <td>87.3</td>\n",
       "      <td>3.5</td>\n",
       "      <td>99.0</td>\n",
       "      <td>48.0</td>\n",
       "      <td>1.66</td>\n",
       "      <td>3.63</td>\n",
       "      <td>66.7</td>\n",
       "      <td>64.2</td>\n",
       "      <td>82.0</td>\n",
       "    </tr>\n",
       "    <tr>\n",
       "      <th>613</th>\n",
       "      <td>\"3=Cirrhosis\"</td>\n",
       "      <td>46</td>\n",
       "      <td>\"f\"</td>\n",
       "      <td>33.0</td>\n",
       "      <td>NaN</td>\n",
       "      <td>39.0</td>\n",
       "      <td>62.0</td>\n",
       "      <td>20.0</td>\n",
       "      <td>3.56</td>\n",
       "      <td>4.20</td>\n",
       "      <td>52.0</td>\n",
       "      <td>50.0</td>\n",
       "      <td>71.0</td>\n",
       "    </tr>\n",
       "    <tr>\n",
       "      <th>614</th>\n",
       "      <td>\"3=Cirrhosis\"</td>\n",
       "      <td>59</td>\n",
       "      <td>\"f\"</td>\n",
       "      <td>36.0</td>\n",
       "      <td>NaN</td>\n",
       "      <td>100.0</td>\n",
       "      <td>80.0</td>\n",
       "      <td>12.0</td>\n",
       "      <td>9.07</td>\n",
       "      <td>5.30</td>\n",
       "      <td>67.0</td>\n",
       "      <td>34.0</td>\n",
       "      <td>68.0</td>\n",
       "    </tr>\n",
       "  </tbody>\n",
       "</table>\n",
       "<p>615 rows × 13 columns</p>\n",
       "</div>"
      ],
      "text/plain": [
       "            Category  Age  Sex   ALB    ALP    ALT    AST   BIL    CHE  CHOL  \\\n",
       "0    \"0=Blood Donor\"   32  \"m\"  38.5   52.5    7.7   22.1   7.5   6.93  3.23   \n",
       "1    \"0=Blood Donor\"   32  \"m\"  38.5   70.3   18.0   24.7   3.9  11.17  4.80   \n",
       "2    \"0=Blood Donor\"   32  \"m\"  46.9   74.7   36.2   52.6   6.1   8.84  5.20   \n",
       "3    \"0=Blood Donor\"   32  \"m\"  43.2   52.0   30.6   22.6  18.9   7.33  4.74   \n",
       "4    \"0=Blood Donor\"   32  \"m\"  39.2   74.1   32.6   24.8   9.6   9.15  4.32   \n",
       "..               ...  ...  ...   ...    ...    ...    ...   ...    ...   ...   \n",
       "610    \"3=Cirrhosis\"   62  \"f\"  32.0  416.6    5.9  110.3  50.0   5.57  6.30   \n",
       "611    \"3=Cirrhosis\"   64  \"f\"  24.0  102.8    2.9   44.4  20.0   1.54  3.02   \n",
       "612    \"3=Cirrhosis\"   64  \"f\"  29.0   87.3    3.5   99.0  48.0   1.66  3.63   \n",
       "613    \"3=Cirrhosis\"   46  \"f\"  33.0    NaN   39.0   62.0  20.0   3.56  4.20   \n",
       "614    \"3=Cirrhosis\"   59  \"f\"  36.0    NaN  100.0   80.0  12.0   9.07  5.30   \n",
       "\n",
       "      CREA    GGT  PROT  \n",
       "0    106.0   12.1  69.0  \n",
       "1     74.0   15.6  76.5  \n",
       "2     86.0   33.2  79.3  \n",
       "3     80.0   33.8  75.7  \n",
       "4     76.0   29.9  68.7  \n",
       "..     ...    ...   ...  \n",
       "610   55.7  650.9  68.5  \n",
       "611   63.0   35.9  71.3  \n",
       "612   66.7   64.2  82.0  \n",
       "613   52.0   50.0  71.0  \n",
       "614   67.0   34.0  68.0  \n",
       "\n",
       "[615 rows x 13 columns]"
      ]
     },
     "execution_count": 21,
     "metadata": {},
     "output_type": "execute_result"
    }
   ],
   "source": [
    "del df[\"\"]\n",
    "df"
   ]
  },
  {
   "cell_type": "markdown",
   "id": "widespread-kelly",
   "metadata": {},
   "source": [
    "Información del dataset"
   ]
  },
  {
   "cell_type": "code",
   "execution_count": 22,
   "id": "clinical-hospital",
   "metadata": {},
   "outputs": [
    {
     "name": "stdout",
     "output_type": "stream",
     "text": [
      "<class 'pandas.core.frame.DataFrame'>\n",
      "RangeIndex: 615 entries, 0 to 614\n",
      "Data columns (total 13 columns):\n",
      " #   Column    Non-Null Count  Dtype  \n",
      "---  ------    --------------  -----  \n",
      " 0   Category  615 non-null    object \n",
      " 1   Age       615 non-null    int64  \n",
      " 2   Sex       615 non-null    object \n",
      " 3   ALB       614 non-null    float64\n",
      " 4   ALP       597 non-null    float64\n",
      " 5   ALT       614 non-null    float64\n",
      " 6   AST       615 non-null    float64\n",
      " 7   BIL       615 non-null    float64\n",
      " 8   CHE       615 non-null    float64\n",
      " 9   CHOL      605 non-null    float64\n",
      " 10  CREA      615 non-null    float64\n",
      " 11  GGT       615 non-null    float64\n",
      " 12  PROT      614 non-null    float64\n",
      "dtypes: float64(10), int64(1), object(2)\n",
      "memory usage: 62.6+ KB\n"
     ]
    }
   ],
   "source": [
    "df.info()"
   ]
  },
  {
   "cell_type": "markdown",
   "id": "advance-world",
   "metadata": {},
   "source": [
    "De la información obtenida se puede observar que la columnas **ALB**, **ALP**, **ALT**, **CHOL** y **PROT** presentan datos faltantes."
   ]
  },
  {
   "cell_type": "markdown",
   "id": "affected-inspiration",
   "metadata": {},
   "source": [
    "### Outliers\n",
    "\n",
    "Antes de rellenar los valores faltantes. Es importante encontrar los *outliers* o valores fuera del rango normal.\n",
    "Para dicha labor se usará la siguiente función:"
   ]
  },
  {
   "cell_type": "code",
   "execution_count": 23,
   "id": "lined-square",
   "metadata": {},
   "outputs": [],
   "source": [
    "def detect_outliers(data_1,threshold=3):\n",
    "    outliers=[[],[]]\n",
    "    mean_1 = np.mean(data_1)\n",
    "    std_1 =np.std(data_1)\n",
    "    for idx,y in enumerate(data_1):\n",
    "        z_score= (y - mean_1)/std_1 \n",
    "        if np.abs(z_score) > threshold:\n",
    "            outliers[0].append(y)\n",
    "            outliers[1].append(idx)\n",
    "    return outliers"
   ]
  },
  {
   "cell_type": "markdown",
   "id": "artistic-labor",
   "metadata": {},
   "source": [
    "Para saber cuales valores estan fuera del rango habitual se colsulto la enciclopedia de la universidad de Rochester [2]. Se encontraron los siguientes rangos:\n",
    "\n",
    "* **ALB**: *Albumin* (34 - 54 g/L).\n",
    "* **ALP**: *Alkaline phosphatase* (44 - 147 U/L)\n",
    "* **ALT**: *Alanine-amino-transferas* (menos de 44 - 1000 IU/L)\n",
    "* **AST**: *Aspartate amino-transferase* (9 - 40 units/L)\n",
    "* **BIL**: *Bilirubin* (10 - 25 mg/L)\n",
    "* **CHE**: *Cholinesterase* ¡No se encontro un rango claro con el cual trabajar!\n",
    "* **CHOL**: *Cholesterol* ¡No se encontro un rango claro con el cual trabajar!\n",
    "* **CREA**: *Creatinine* (9 - 13 mg/L)\n",
    "* **GGT**: *$\\gamma$-glutamyl-transferase* (5 - 61 IU/L) [x7 para recien nacidos].\n",
    "* **PROT**: *Proteina* (36 - 52 g/L)"
   ]
  },
  {
   "cell_type": "code",
   "execution_count": 24,
   "id": "empty-tennis",
   "metadata": {},
   "outputs": [
    {
     "name": "stdout",
     "output_type": "stream",
     "text": [
      "ALB outliers: [82.2, 14.9]\n",
      "ALP outliers: [208.2, 190.7, 416.6]\n",
      "ALT outliers: [325.3]\n",
      "AST outliers: [188.7, 146.6, 164.2, 187.7, 324.0, 187.9, 161.9, 263.1, 185.0, 319.8, 181.8, 143.2, 150.0, 285.8]\n",
      "BIL outliers: [200.0, 254.0, 91.0, 119.0, 209.0, 117.0, 200.0]\n",
      "CHE outliers: []\n",
      "CHOL outliers: []\n",
      "CREA outliers: [519.0, 1079.1, 485.9]\n",
      "GGT outliers: [239.0, 345.6, 218.3, 295.6, 392.2, 491.0, 399.5, 273.7, 400.3, 650.9]\n",
      "PROT outliers: []\n"
     ]
    }
   ],
   "source": [
    "strings = [\"ALB outliers:\",\"ALP outliers:\",\"ALT outliers:\",\"AST outliers:\",\"BIL outliers:\",\n",
    "           \"CHE outliers:\",\"CHOL outliers:\",\"CREA outliers:\",\"GGT outliers:\",\"PROT outliers:\"]\n",
    "thresholds = [4,3,10,3,3,8,8,2,3,6]\n",
    "\n",
    "delete_idx = []\n",
    "\n",
    "for i,string in enumerate(strings):\n",
    "    data_1 = df[df.columns[3+i]]\n",
    "    outlier = detect_outliers(data_1,thresholds[i])\n",
    "    print(string,outlier[0])\n",
    "    for idx in outlier[1]:\n",
    "        if idx not in delete_idx:\n",
    "            delete_idx.append(idx)\n",
    "            \n",
    "df.drop(index=delete_idx,inplace=True)"
   ]
  },
  {
   "cell_type": "markdown",
   "id": "cultural-craps",
   "metadata": {},
   "source": [
    " ### Valores faltantes\n",
    " \n",
    " Como se había encontrado anteriormente en las columnas **ALB**, **ALP**, **ALT**, **CHOL** y **PROT** hay datos faltantes."
   ]
  },
  {
   "cell_type": "code",
   "execution_count": 25,
   "id": "armed-separation",
   "metadata": {},
   "outputs": [
    {
     "name": "stdout",
     "output_type": "stream",
     "text": [
      "<class 'pandas.core.frame.DataFrame'>\n",
      "Int64Index: 584 entries, 0 to 614\n",
      "Data columns (total 13 columns):\n",
      " #   Column    Non-Null Count  Dtype  \n",
      "---  ------    --------------  -----  \n",
      " 0   Category  584 non-null    object \n",
      " 1   Age       584 non-null    int64  \n",
      " 2   Sex       584 non-null    object \n",
      " 3   ALB       584 non-null    float64\n",
      " 4   ALP       584 non-null    float64\n",
      " 5   ALT       584 non-null    float64\n",
      " 6   AST       584 non-null    float64\n",
      " 7   BIL       584 non-null    float64\n",
      " 8   CHE       584 non-null    float64\n",
      " 9   CHOL      584 non-null    float64\n",
      " 10  CREA      584 non-null    float64\n",
      " 11  GGT       584 non-null    float64\n",
      " 12  PROT      584 non-null    float64\n",
      "dtypes: float64(10), int64(1), object(2)\n",
      "memory usage: 63.9+ KB\n"
     ]
    }
   ],
   "source": [
    "change = True\n",
    "label=\"ALB\";df[label].fillna(df[label].mean(),inplace=change)\n",
    "label=\"ALP\";df[label].fillna(df[label].mean(),inplace=change)\n",
    "label=\"ALT\";df[label].fillna(df[label].mean(),inplace=change)\n",
    "label=\"CHOL\";df[label].fillna(df[label].mean(),inplace=change)\n",
    "label=\"PROT\";df[label].fillna(df[label].mean(),inplace=change)\n",
    "df.info()"
   ]
  },
  {
   "cell_type": "markdown",
   "id": "advised-retention",
   "metadata": {},
   "source": [
    "### EDA\n",
    "\n",
    "Descripción estadística del *dataset*"
   ]
  },
  {
   "cell_type": "code",
   "execution_count": 26,
   "id": "convinced-extra",
   "metadata": {},
   "outputs": [
    {
     "data": {
      "text/html": [
       "<div>\n",
       "<style scoped>\n",
       "    .dataframe tbody tr th:only-of-type {\n",
       "        vertical-align: middle;\n",
       "    }\n",
       "\n",
       "    .dataframe tbody tr th {\n",
       "        vertical-align: top;\n",
       "    }\n",
       "\n",
       "    .dataframe thead th {\n",
       "        text-align: right;\n",
       "    }\n",
       "</style>\n",
       "<table border=\"1\" class=\"dataframe\">\n",
       "  <thead>\n",
       "    <tr style=\"text-align: right;\">\n",
       "      <th></th>\n",
       "      <th>Age</th>\n",
       "      <th>ALB</th>\n",
       "      <th>ALP</th>\n",
       "      <th>ALT</th>\n",
       "      <th>AST</th>\n",
       "      <th>BIL</th>\n",
       "      <th>CHE</th>\n",
       "      <th>CHOL</th>\n",
       "      <th>CREA</th>\n",
       "      <th>GGT</th>\n",
       "      <th>PROT</th>\n",
       "    </tr>\n",
       "  </thead>\n",
       "  <tbody>\n",
       "    <tr>\n",
       "      <th>count</th>\n",
       "      <td>584.000000</td>\n",
       "      <td>584.000000</td>\n",
       "      <td>584.000000</td>\n",
       "      <td>584.000000</td>\n",
       "      <td>584.000000</td>\n",
       "      <td>584.000000</td>\n",
       "      <td>584.000000</td>\n",
       "      <td>584.000000</td>\n",
       "      <td>584.000000</td>\n",
       "      <td>584.000000</td>\n",
       "      <td>584.000000</td>\n",
       "    </tr>\n",
       "    <tr>\n",
       "      <th>mean</th>\n",
       "      <td>47.214041</td>\n",
       "      <td>41.971698</td>\n",
       "      <td>66.755908</td>\n",
       "      <td>28.199828</td>\n",
       "      <td>29.891096</td>\n",
       "      <td>9.134075</td>\n",
       "      <td>8.341986</td>\n",
       "      <td>5.416817</td>\n",
       "      <td>78.200856</td>\n",
       "      <td>32.490240</td>\n",
       "      <td>72.293493</td>\n",
       "    </tr>\n",
       "    <tr>\n",
       "      <th>std</th>\n",
       "      <td>9.955152</td>\n",
       "      <td>5.031527</td>\n",
       "      <td>19.031352</td>\n",
       "      <td>22.498895</td>\n",
       "      <td>16.953166</td>\n",
       "      <td>6.810452</td>\n",
       "      <td>2.045323</td>\n",
       "      <td>1.090034</td>\n",
       "      <td>15.091060</td>\n",
       "      <td>28.900144</td>\n",
       "      <td>5.027508</td>\n",
       "    </tr>\n",
       "    <tr>\n",
       "      <th>min</th>\n",
       "      <td>19.000000</td>\n",
       "      <td>21.600000</td>\n",
       "      <td>11.300000</td>\n",
       "      <td>1.300000</td>\n",
       "      <td>10.600000</td>\n",
       "      <td>0.800000</td>\n",
       "      <td>1.540000</td>\n",
       "      <td>2.400000</td>\n",
       "      <td>8.000000</td>\n",
       "      <td>4.500000</td>\n",
       "      <td>44.800000</td>\n",
       "    </tr>\n",
       "    <tr>\n",
       "      <th>25%</th>\n",
       "      <td>39.000000</td>\n",
       "      <td>39.000000</td>\n",
       "      <td>53.225000</td>\n",
       "      <td>16.600000</td>\n",
       "      <td>21.375000</td>\n",
       "      <td>5.200000</td>\n",
       "      <td>7.057500</td>\n",
       "      <td>4.650000</td>\n",
       "      <td>68.000000</td>\n",
       "      <td>15.400000</td>\n",
       "      <td>69.600000</td>\n",
       "    </tr>\n",
       "    <tr>\n",
       "      <th>50%</th>\n",
       "      <td>47.000000</td>\n",
       "      <td>42.050000</td>\n",
       "      <td>66.350000</td>\n",
       "      <td>23.000000</td>\n",
       "      <td>25.550000</td>\n",
       "      <td>7.100000</td>\n",
       "      <td>8.355000</td>\n",
       "      <td>5.350000</td>\n",
       "      <td>76.850000</td>\n",
       "      <td>22.700000</td>\n",
       "      <td>72.300000</td>\n",
       "    </tr>\n",
       "    <tr>\n",
       "      <th>75%</th>\n",
       "      <td>54.000000</td>\n",
       "      <td>45.300000</td>\n",
       "      <td>78.200000</td>\n",
       "      <td>32.925000</td>\n",
       "      <td>31.325000</td>\n",
       "      <td>10.825000</td>\n",
       "      <td>9.640000</td>\n",
       "      <td>6.080000</td>\n",
       "      <td>88.000000</td>\n",
       "      <td>36.100000</td>\n",
       "      <td>75.400000</td>\n",
       "    </tr>\n",
       "    <tr>\n",
       "      <th>max</th>\n",
       "      <td>77.000000</td>\n",
       "      <td>62.900000</td>\n",
       "      <td>137.200000</td>\n",
       "      <td>258.000000</td>\n",
       "      <td>132.800000</td>\n",
       "      <td>59.100000</td>\n",
       "      <td>16.410000</td>\n",
       "      <td>9.670000</td>\n",
       "      <td>158.200000</td>\n",
       "      <td>203.000000</td>\n",
       "      <td>90.000000</td>\n",
       "    </tr>\n",
       "  </tbody>\n",
       "</table>\n",
       "</div>"
      ],
      "text/plain": [
       "              Age         ALB         ALP         ALT         AST         BIL  \\\n",
       "count  584.000000  584.000000  584.000000  584.000000  584.000000  584.000000   \n",
       "mean    47.214041   41.971698   66.755908   28.199828   29.891096    9.134075   \n",
       "std      9.955152    5.031527   19.031352   22.498895   16.953166    6.810452   \n",
       "min     19.000000   21.600000   11.300000    1.300000   10.600000    0.800000   \n",
       "25%     39.000000   39.000000   53.225000   16.600000   21.375000    5.200000   \n",
       "50%     47.000000   42.050000   66.350000   23.000000   25.550000    7.100000   \n",
       "75%     54.000000   45.300000   78.200000   32.925000   31.325000   10.825000   \n",
       "max     77.000000   62.900000  137.200000  258.000000  132.800000   59.100000   \n",
       "\n",
       "              CHE        CHOL        CREA         GGT        PROT  \n",
       "count  584.000000  584.000000  584.000000  584.000000  584.000000  \n",
       "mean     8.341986    5.416817   78.200856   32.490240   72.293493  \n",
       "std      2.045323    1.090034   15.091060   28.900144    5.027508  \n",
       "min      1.540000    2.400000    8.000000    4.500000   44.800000  \n",
       "25%      7.057500    4.650000   68.000000   15.400000   69.600000  \n",
       "50%      8.355000    5.350000   76.850000   22.700000   72.300000  \n",
       "75%      9.640000    6.080000   88.000000   36.100000   75.400000  \n",
       "max     16.410000    9.670000  158.200000  203.000000   90.000000  "
      ]
     },
     "execution_count": 26,
     "metadata": {},
     "output_type": "execute_result"
    }
   ],
   "source": [
    "df.describe()"
   ]
  },
  {
   "cell_type": "markdown",
   "id": "exciting-honolulu",
   "metadata": {},
   "source": [
    "Visualización de los datos."
   ]
  },
  {
   "cell_type": "code",
   "execution_count": 27,
   "id": "exempt-palace",
   "metadata": {},
   "outputs": [
    {
     "data": {
      "image/png": "[encoded data removed]",
      "text/plain": [
       "<Figure size 432x288 with 1 Axes>"
      ]
     },
     "metadata": {
      "needs_background": "light"
     },
     "output_type": "display_data"
    },
    {
     "data": {
      "image/png": "[encoded data removed]",
      "text/plain": [
       "<Figure size 432x288 with 1 Axes>"
      ]
     },
     "metadata": {
      "needs_background": "light"
     },
     "output_type": "display_data"
    },
    {
     "data": {
      "image/png": "[encoded data removed]",
      "text/plain": [
       "<Figure size 432x288 with 1 Axes>"
      ]
     },
     "metadata": {
      "needs_background": "light"
     },
     "output_type": "display_data"
    },
    {
     "data": {
      "image/png": "[encoded data removed]",
      "text/plain": [
       "<Figure size 432x288 with 1 Axes>"
      ]
     },
     "metadata": {
      "needs_background": "light"
     },
     "output_type": "display_data"
    },
    {
     "data": {
      "image/png": "[encoded data removed]",
      "text/plain": [
       "<Figure size 432x288 with 1 Axes>"
      ]
     },
     "metadata": {
      "needs_background": "light"
     },
     "output_type": "display_data"
    }
   ],
   "source": [
    "label = \"Sex\"\n",
    "plt.subplot(3,1,1)\n",
    "plt.scatter(df[label],df['Category'])\n",
    "plt.xlabel(label)\n",
    "plt.grid()\n",
    "plt.show()\n",
    "\n",
    "label = \"Age\"\n",
    "plt.subplot(3,1,2)\n",
    "plt.scatter(df[label],df['Category'])\n",
    "plt.xlabel(label)\n",
    "plt.grid()\n",
    "plt.show()\n",
    "\n",
    "label = 'PROT'\n",
    "plt.subplot(3,1,1)\n",
    "plt.scatter(df[label],df['Category'])\n",
    "plt.xlabel(label)\n",
    "plt.grid()\n",
    "plt.show()\n",
    "\n",
    "label = 'ALT'\n",
    "plt.subplot(3,1,2)\n",
    "plt.scatter(df[label],df['Category'])\n",
    "plt.xlabel(label)\n",
    "plt.grid()\n",
    "plt.show()\n",
    "\n",
    "label = 'AST'\n",
    "plt.subplot(3,1,3)\n",
    "plt.scatter(df[label],df['Category'])\n",
    "plt.xlabel(label)\n",
    "plt.grid()\n",
    "plt.show()"
   ]
  },
  {
   "cell_type": "markdown",
   "id": "intermediate-subscriber",
   "metadata": {},
   "source": [
    " Observando las gráficas se pueden tener algunas conclusiones preliminares. Como por ejemplo, pareciera no haber relación entre la categorización y el sexo. Por otro lado pareciera haber una relación entre el **ALT** y el **AST**. Además de una vaga relación entre la edad y **PROT**. "
   ]
  },
  {
   "cell_type": "code",
   "execution_count": 28,
   "id": "billion-entrepreneur",
   "metadata": {},
   "outputs": [
    {
     "data": {
      "image/png": "[encoded data removed]",
      "text/plain": [
       "<Figure size 432x288 with 1 Axes>"
      ]
     },
     "metadata": {
      "needs_background": "light"
     },
     "output_type": "display_data"
    },
    {
     "data": {
      "image/png": "[encoded data removed]",
      "text/plain": [
       "<Figure size 432x288 with 1 Axes>"
      ]
     },
     "metadata": {
      "needs_background": "light"
     },
     "output_type": "display_data"
    },
    {
     "data": {
      "image/png": "[encoded data removed]",
      "text/plain": [
       "<Figure size 432x288 with 1 Axes>"
      ]
     },
     "metadata": {
      "needs_background": "light"
     },
     "output_type": "display_data"
    },
    {
     "data": {
      "image/png": "[encoded data removed]",
      "text/plain": [
       "<Figure size 432x288 with 1 Axes>"
      ]
     },
     "metadata": {
      "needs_background": "light"
     },
     "output_type": "display_data"
    },
    {
     "data": {
      "image/png": "[encoded data removed]",
      "text/plain": [
       "<Figure size 432x288 with 1 Axes>"
      ]
     },
     "metadata": {
      "needs_background": "light"
     },
     "output_type": "display_data"
    },
    {
     "data": {
      "image/png": "[encoded data removed]",
      "text/plain": [
       "<Figure size 432x288 with 1 Axes>"
      ]
     },
     "metadata": {
      "needs_background": "light"
     },
     "output_type": "display_data"
    }
   ],
   "source": [
    "label = 'BIL'\n",
    "plt.subplot(3,1,1)\n",
    "plt.scatter(df[label],df['Category'])\n",
    "plt.xlabel(label)\n",
    "plt.grid()\n",
    "plt.show()\n",
    "\n",
    "label = 'CREA'\n",
    "plt.subplot(3,1,2)\n",
    "plt.scatter(df[label],df['Category'])\n",
    "plt.xlabel(label)\n",
    "plt.grid()\n",
    "plt.show()\n",
    "\n",
    "label = 'GGT'\n",
    "plt.subplot(3,1,3)\n",
    "plt.scatter(df[label],df['Category'])\n",
    "plt.xlabel(label)\n",
    "plt.grid()\n",
    "plt.show()\n",
    "\n",
    "label = 'CHE'\n",
    "plt.subplot(3,1,1)\n",
    "plt.scatter(df[label],df['Category'])\n",
    "plt.xlabel(label)\n",
    "plt.grid()\n",
    "plt.show()\n",
    "\n",
    "label = 'CHOL'\n",
    "plt.subplot(3,1,2)\n",
    "plt.scatter(df[label],df['Category'])\n",
    "plt.xlabel(label)\n",
    "plt.grid()\n",
    "plt.show()\n",
    "\n",
    "label = 'ALB'\n",
    "plt.subplot(3,1,3)\n",
    "plt.scatter(df[label],df['Category'])\n",
    "plt.xlabel(label)\n",
    "plt.grid()\n",
    "plt.show()"
   ]
  },
  {
   "cell_type": "markdown",
   "id": "mediterranean-torture",
   "metadata": {},
   "source": [
    "### Transformación\n",
    "\n",
    "Se sustituye ***m*** por *uno* y ***f*** por *cero*."
   ]
  },
  {
   "cell_type": "code",
   "execution_count": 29,
   "id": "ambient-genius",
   "metadata": {},
   "outputs": [
    {
     "data": {
      "text/html": [
       "<div>\n",
       "<style scoped>\n",
       "    .dataframe tbody tr th:only-of-type {\n",
       "        vertical-align: middle;\n",
       "    }\n",
       "\n",
       "    .dataframe tbody tr th {\n",
       "        vertical-align: top;\n",
       "    }\n",
       "\n",
       "    .dataframe thead th {\n",
       "        text-align: right;\n",
       "    }\n",
       "</style>\n",
       "<table border=\"1\" class=\"dataframe\">\n",
       "  <thead>\n",
       "    <tr style=\"text-align: right;\">\n",
       "      <th></th>\n",
       "      <th>Category</th>\n",
       "      <th>Age</th>\n",
       "      <th>Sex</th>\n",
       "      <th>ALB</th>\n",
       "      <th>ALP</th>\n",
       "      <th>ALT</th>\n",
       "      <th>AST</th>\n",
       "      <th>BIL</th>\n",
       "      <th>CHE</th>\n",
       "      <th>CHOL</th>\n",
       "      <th>CREA</th>\n",
       "      <th>GGT</th>\n",
       "      <th>PROT</th>\n",
       "    </tr>\n",
       "  </thead>\n",
       "  <tbody>\n",
       "    <tr>\n",
       "      <th>0</th>\n",
       "      <td>\"0=Blood Donor\"</td>\n",
       "      <td>32</td>\n",
       "      <td>1</td>\n",
       "      <td>38.5</td>\n",
       "      <td>52.500000</td>\n",
       "      <td>7.7</td>\n",
       "      <td>22.1</td>\n",
       "      <td>7.5</td>\n",
       "      <td>6.93</td>\n",
       "      <td>3.23</td>\n",
       "      <td>106.0</td>\n",
       "      <td>12.1</td>\n",
       "      <td>69.0</td>\n",
       "    </tr>\n",
       "    <tr>\n",
       "      <th>1</th>\n",
       "      <td>\"0=Blood Donor\"</td>\n",
       "      <td>32</td>\n",
       "      <td>1</td>\n",
       "      <td>38.5</td>\n",
       "      <td>70.300000</td>\n",
       "      <td>18.0</td>\n",
       "      <td>24.7</td>\n",
       "      <td>3.9</td>\n",
       "      <td>11.17</td>\n",
       "      <td>4.80</td>\n",
       "      <td>74.0</td>\n",
       "      <td>15.6</td>\n",
       "      <td>76.5</td>\n",
       "    </tr>\n",
       "    <tr>\n",
       "      <th>2</th>\n",
       "      <td>\"0=Blood Donor\"</td>\n",
       "      <td>32</td>\n",
       "      <td>1</td>\n",
       "      <td>46.9</td>\n",
       "      <td>74.700000</td>\n",
       "      <td>36.2</td>\n",
       "      <td>52.6</td>\n",
       "      <td>6.1</td>\n",
       "      <td>8.84</td>\n",
       "      <td>5.20</td>\n",
       "      <td>86.0</td>\n",
       "      <td>33.2</td>\n",
       "      <td>79.3</td>\n",
       "    </tr>\n",
       "    <tr>\n",
       "      <th>3</th>\n",
       "      <td>\"0=Blood Donor\"</td>\n",
       "      <td>32</td>\n",
       "      <td>1</td>\n",
       "      <td>43.2</td>\n",
       "      <td>52.000000</td>\n",
       "      <td>30.6</td>\n",
       "      <td>22.6</td>\n",
       "      <td>18.9</td>\n",
       "      <td>7.33</td>\n",
       "      <td>4.74</td>\n",
       "      <td>80.0</td>\n",
       "      <td>33.8</td>\n",
       "      <td>75.7</td>\n",
       "    </tr>\n",
       "    <tr>\n",
       "      <th>4</th>\n",
       "      <td>\"0=Blood Donor\"</td>\n",
       "      <td>32</td>\n",
       "      <td>1</td>\n",
       "      <td>39.2</td>\n",
       "      <td>74.100000</td>\n",
       "      <td>32.6</td>\n",
       "      <td>24.8</td>\n",
       "      <td>9.6</td>\n",
       "      <td>9.15</td>\n",
       "      <td>4.32</td>\n",
       "      <td>76.0</td>\n",
       "      <td>29.9</td>\n",
       "      <td>68.7</td>\n",
       "    </tr>\n",
       "    <tr>\n",
       "      <th>...</th>\n",
       "      <td>...</td>\n",
       "      <td>...</td>\n",
       "      <td>...</td>\n",
       "      <td>...</td>\n",
       "      <td>...</td>\n",
       "      <td>...</td>\n",
       "      <td>...</td>\n",
       "      <td>...</td>\n",
       "      <td>...</td>\n",
       "      <td>...</td>\n",
       "      <td>...</td>\n",
       "      <td>...</td>\n",
       "      <td>...</td>\n",
       "    </tr>\n",
       "    <tr>\n",
       "      <th>607</th>\n",
       "      <td>\"3=Cirrhosis\"</td>\n",
       "      <td>52</td>\n",
       "      <td>0</td>\n",
       "      <td>39.0</td>\n",
       "      <td>37.000000</td>\n",
       "      <td>1.3</td>\n",
       "      <td>30.4</td>\n",
       "      <td>21.0</td>\n",
       "      <td>6.33</td>\n",
       "      <td>3.78</td>\n",
       "      <td>158.2</td>\n",
       "      <td>142.5</td>\n",
       "      <td>82.7</td>\n",
       "    </tr>\n",
       "    <tr>\n",
       "      <th>611</th>\n",
       "      <td>\"3=Cirrhosis\"</td>\n",
       "      <td>64</td>\n",
       "      <td>0</td>\n",
       "      <td>24.0</td>\n",
       "      <td>102.800000</td>\n",
       "      <td>2.9</td>\n",
       "      <td>44.4</td>\n",
       "      <td>20.0</td>\n",
       "      <td>1.54</td>\n",
       "      <td>3.02</td>\n",
       "      <td>63.0</td>\n",
       "      <td>35.9</td>\n",
       "      <td>71.3</td>\n",
       "    </tr>\n",
       "    <tr>\n",
       "      <th>612</th>\n",
       "      <td>\"3=Cirrhosis\"</td>\n",
       "      <td>64</td>\n",
       "      <td>0</td>\n",
       "      <td>29.0</td>\n",
       "      <td>87.300000</td>\n",
       "      <td>3.5</td>\n",
       "      <td>99.0</td>\n",
       "      <td>48.0</td>\n",
       "      <td>1.66</td>\n",
       "      <td>3.63</td>\n",
       "      <td>66.7</td>\n",
       "      <td>64.2</td>\n",
       "      <td>82.0</td>\n",
       "    </tr>\n",
       "    <tr>\n",
       "      <th>613</th>\n",
       "      <td>\"3=Cirrhosis\"</td>\n",
       "      <td>46</td>\n",
       "      <td>0</td>\n",
       "      <td>33.0</td>\n",
       "      <td>66.755908</td>\n",
       "      <td>39.0</td>\n",
       "      <td>62.0</td>\n",
       "      <td>20.0</td>\n",
       "      <td>3.56</td>\n",
       "      <td>4.20</td>\n",
       "      <td>52.0</td>\n",
       "      <td>50.0</td>\n",
       "      <td>71.0</td>\n",
       "    </tr>\n",
       "    <tr>\n",
       "      <th>614</th>\n",
       "      <td>\"3=Cirrhosis\"</td>\n",
       "      <td>59</td>\n",
       "      <td>0</td>\n",
       "      <td>36.0</td>\n",
       "      <td>66.755908</td>\n",
       "      <td>100.0</td>\n",
       "      <td>80.0</td>\n",
       "      <td>12.0</td>\n",
       "      <td>9.07</td>\n",
       "      <td>5.30</td>\n",
       "      <td>67.0</td>\n",
       "      <td>34.0</td>\n",
       "      <td>68.0</td>\n",
       "    </tr>\n",
       "  </tbody>\n",
       "</table>\n",
       "<p>584 rows × 13 columns</p>\n",
       "</div>"
      ],
      "text/plain": [
       "            Category  Age  Sex   ALB         ALP    ALT   AST   BIL    CHE  \\\n",
       "0    \"0=Blood Donor\"   32    1  38.5   52.500000    7.7  22.1   7.5   6.93   \n",
       "1    \"0=Blood Donor\"   32    1  38.5   70.300000   18.0  24.7   3.9  11.17   \n",
       "2    \"0=Blood Donor\"   32    1  46.9   74.700000   36.2  52.6   6.1   8.84   \n",
       "3    \"0=Blood Donor\"   32    1  43.2   52.000000   30.6  22.6  18.9   7.33   \n",
       "4    \"0=Blood Donor\"   32    1  39.2   74.100000   32.6  24.8   9.6   9.15   \n",
       "..               ...  ...  ...   ...         ...    ...   ...   ...    ...   \n",
       "607    \"3=Cirrhosis\"   52    0  39.0   37.000000    1.3  30.4  21.0   6.33   \n",
       "611    \"3=Cirrhosis\"   64    0  24.0  102.800000    2.9  44.4  20.0   1.54   \n",
       "612    \"3=Cirrhosis\"   64    0  29.0   87.300000    3.5  99.0  48.0   1.66   \n",
       "613    \"3=Cirrhosis\"   46    0  33.0   66.755908   39.0  62.0  20.0   3.56   \n",
       "614    \"3=Cirrhosis\"   59    0  36.0   66.755908  100.0  80.0  12.0   9.07   \n",
       "\n",
       "     CHOL   CREA    GGT  PROT  \n",
       "0    3.23  106.0   12.1  69.0  \n",
       "1    4.80   74.0   15.6  76.5  \n",
       "2    5.20   86.0   33.2  79.3  \n",
       "3    4.74   80.0   33.8  75.7  \n",
       "4    4.32   76.0   29.9  68.7  \n",
       "..    ...    ...    ...   ...  \n",
       "607  3.78  158.2  142.5  82.7  \n",
       "611  3.02   63.0   35.9  71.3  \n",
       "612  3.63   66.7   64.2  82.0  \n",
       "613  4.20   52.0   50.0  71.0  \n",
       "614  5.30   67.0   34.0  68.0  \n",
       "\n",
       "[584 rows x 13 columns]"
      ]
     },
     "execution_count": 29,
     "metadata": {},
     "output_type": "execute_result"
    }
   ],
   "source": [
    "df.replace(to_replace=\"m\",value=1,regex=True,inplace=True)\n",
    "df.replace(to_replace=\"f\",value=0,regex=True,inplace=True)\n",
    "df"
   ]
  },
  {
   "cell_type": "markdown",
   "id": "violent-geneva",
   "metadata": {},
   "source": [
    "Para transformar la columna **Category** se puede realizar una transformación como la hecha anteriormente."
   ]
  },
  {
   "cell_type": "code",
   "execution_count": 30,
   "id": "sophisticated-alarm",
   "metadata": {},
   "outputs": [
    {
     "data": {
      "text/html": [
       "<div>\n",
       "<style scoped>\n",
       "    .dataframe tbody tr th:only-of-type {\n",
       "        vertical-align: middle;\n",
       "    }\n",
       "\n",
       "    .dataframe tbody tr th {\n",
       "        vertical-align: top;\n",
       "    }\n",
       "\n",
       "    .dataframe thead th {\n",
       "        text-align: right;\n",
       "    }\n",
       "</style>\n",
       "<table border=\"1\" class=\"dataframe\">\n",
       "  <thead>\n",
       "    <tr style=\"text-align: right;\">\n",
       "      <th></th>\n",
       "      <th>Category</th>\n",
       "      <th>Age</th>\n",
       "      <th>Sex</th>\n",
       "      <th>ALB</th>\n",
       "      <th>ALP</th>\n",
       "      <th>ALT</th>\n",
       "      <th>AST</th>\n",
       "      <th>BIL</th>\n",
       "      <th>CHE</th>\n",
       "      <th>CHOL</th>\n",
       "      <th>CREA</th>\n",
       "      <th>GGT</th>\n",
       "      <th>PROT</th>\n",
       "    </tr>\n",
       "  </thead>\n",
       "  <tbody>\n",
       "    <tr>\n",
       "      <th>0</th>\n",
       "      <td>0</td>\n",
       "      <td>32</td>\n",
       "      <td>1</td>\n",
       "      <td>38.5</td>\n",
       "      <td>52.500000</td>\n",
       "      <td>7.7</td>\n",
       "      <td>22.1</td>\n",
       "      <td>7.5</td>\n",
       "      <td>6.93</td>\n",
       "      <td>3.23</td>\n",
       "      <td>106.0</td>\n",
       "      <td>12.1</td>\n",
       "      <td>69.0</td>\n",
       "    </tr>\n",
       "    <tr>\n",
       "      <th>1</th>\n",
       "      <td>0</td>\n",
       "      <td>32</td>\n",
       "      <td>1</td>\n",
       "      <td>38.5</td>\n",
       "      <td>70.300000</td>\n",
       "      <td>18.0</td>\n",
       "      <td>24.7</td>\n",
       "      <td>3.9</td>\n",
       "      <td>11.17</td>\n",
       "      <td>4.80</td>\n",
       "      <td>74.0</td>\n",
       "      <td>15.6</td>\n",
       "      <td>76.5</td>\n",
       "    </tr>\n",
       "    <tr>\n",
       "      <th>2</th>\n",
       "      <td>0</td>\n",
       "      <td>32</td>\n",
       "      <td>1</td>\n",
       "      <td>46.9</td>\n",
       "      <td>74.700000</td>\n",
       "      <td>36.2</td>\n",
       "      <td>52.6</td>\n",
       "      <td>6.1</td>\n",
       "      <td>8.84</td>\n",
       "      <td>5.20</td>\n",
       "      <td>86.0</td>\n",
       "      <td>33.2</td>\n",
       "      <td>79.3</td>\n",
       "    </tr>\n",
       "    <tr>\n",
       "      <th>3</th>\n",
       "      <td>0</td>\n",
       "      <td>32</td>\n",
       "      <td>1</td>\n",
       "      <td>43.2</td>\n",
       "      <td>52.000000</td>\n",
       "      <td>30.6</td>\n",
       "      <td>22.6</td>\n",
       "      <td>18.9</td>\n",
       "      <td>7.33</td>\n",
       "      <td>4.74</td>\n",
       "      <td>80.0</td>\n",
       "      <td>33.8</td>\n",
       "      <td>75.7</td>\n",
       "    </tr>\n",
       "    <tr>\n",
       "      <th>4</th>\n",
       "      <td>0</td>\n",
       "      <td>32</td>\n",
       "      <td>1</td>\n",
       "      <td>39.2</td>\n",
       "      <td>74.100000</td>\n",
       "      <td>32.6</td>\n",
       "      <td>24.8</td>\n",
       "      <td>9.6</td>\n",
       "      <td>9.15</td>\n",
       "      <td>4.32</td>\n",
       "      <td>76.0</td>\n",
       "      <td>29.9</td>\n",
       "      <td>68.7</td>\n",
       "    </tr>\n",
       "    <tr>\n",
       "      <th>...</th>\n",
       "      <td>...</td>\n",
       "      <td>...</td>\n",
       "      <td>...</td>\n",
       "      <td>...</td>\n",
       "      <td>...</td>\n",
       "      <td>...</td>\n",
       "      <td>...</td>\n",
       "      <td>...</td>\n",
       "      <td>...</td>\n",
       "      <td>...</td>\n",
       "      <td>...</td>\n",
       "      <td>...</td>\n",
       "      <td>...</td>\n",
       "    </tr>\n",
       "    <tr>\n",
       "      <th>607</th>\n",
       "      <td>4</td>\n",
       "      <td>52</td>\n",
       "      <td>0</td>\n",
       "      <td>39.0</td>\n",
       "      <td>37.000000</td>\n",
       "      <td>1.3</td>\n",
       "      <td>30.4</td>\n",
       "      <td>21.0</td>\n",
       "      <td>6.33</td>\n",
       "      <td>3.78</td>\n",
       "      <td>158.2</td>\n",
       "      <td>142.5</td>\n",
       "      <td>82.7</td>\n",
       "    </tr>\n",
       "    <tr>\n",
       "      <th>611</th>\n",
       "      <td>4</td>\n",
       "      <td>64</td>\n",
       "      <td>0</td>\n",
       "      <td>24.0</td>\n",
       "      <td>102.800000</td>\n",
       "      <td>2.9</td>\n",
       "      <td>44.4</td>\n",
       "      <td>20.0</td>\n",
       "      <td>1.54</td>\n",
       "      <td>3.02</td>\n",
       "      <td>63.0</td>\n",
       "      <td>35.9</td>\n",
       "      <td>71.3</td>\n",
       "    </tr>\n",
       "    <tr>\n",
       "      <th>612</th>\n",
       "      <td>4</td>\n",
       "      <td>64</td>\n",
       "      <td>0</td>\n",
       "      <td>29.0</td>\n",
       "      <td>87.300000</td>\n",
       "      <td>3.5</td>\n",
       "      <td>99.0</td>\n",
       "      <td>48.0</td>\n",
       "      <td>1.66</td>\n",
       "      <td>3.63</td>\n",
       "      <td>66.7</td>\n",
       "      <td>64.2</td>\n",
       "      <td>82.0</td>\n",
       "    </tr>\n",
       "    <tr>\n",
       "      <th>613</th>\n",
       "      <td>4</td>\n",
       "      <td>46</td>\n",
       "      <td>0</td>\n",
       "      <td>33.0</td>\n",
       "      <td>66.755908</td>\n",
       "      <td>39.0</td>\n",
       "      <td>62.0</td>\n",
       "      <td>20.0</td>\n",
       "      <td>3.56</td>\n",
       "      <td>4.20</td>\n",
       "      <td>52.0</td>\n",
       "      <td>50.0</td>\n",
       "      <td>71.0</td>\n",
       "    </tr>\n",
       "    <tr>\n",
       "      <th>614</th>\n",
       "      <td>4</td>\n",
       "      <td>59</td>\n",
       "      <td>0</td>\n",
       "      <td>36.0</td>\n",
       "      <td>66.755908</td>\n",
       "      <td>100.0</td>\n",
       "      <td>80.0</td>\n",
       "      <td>12.0</td>\n",
       "      <td>9.07</td>\n",
       "      <td>5.30</td>\n",
       "      <td>67.0</td>\n",
       "      <td>34.0</td>\n",
       "      <td>68.0</td>\n",
       "    </tr>\n",
       "  </tbody>\n",
       "</table>\n",
       "<p>584 rows × 13 columns</p>\n",
       "</div>"
      ],
      "text/plain": [
       "     Category  Age  Sex   ALB         ALP    ALT   AST   BIL    CHE  CHOL  \\\n",
       "0           0   32    1  38.5   52.500000    7.7  22.1   7.5   6.93  3.23   \n",
       "1           0   32    1  38.5   70.300000   18.0  24.7   3.9  11.17  4.80   \n",
       "2           0   32    1  46.9   74.700000   36.2  52.6   6.1   8.84  5.20   \n",
       "3           0   32    1  43.2   52.000000   30.6  22.6  18.9   7.33  4.74   \n",
       "4           0   32    1  39.2   74.100000   32.6  24.8   9.6   9.15  4.32   \n",
       "..        ...  ...  ...   ...         ...    ...   ...   ...    ...   ...   \n",
       "607         4   52    0  39.0   37.000000    1.3  30.4  21.0   6.33  3.78   \n",
       "611         4   64    0  24.0  102.800000    2.9  44.4  20.0   1.54  3.02   \n",
       "612         4   64    0  29.0   87.300000    3.5  99.0  48.0   1.66  3.63   \n",
       "613         4   46    0  33.0   66.755908   39.0  62.0  20.0   3.56  4.20   \n",
       "614         4   59    0  36.0   66.755908  100.0  80.0  12.0   9.07  5.30   \n",
       "\n",
       "      CREA    GGT  PROT  \n",
       "0    106.0   12.1  69.0  \n",
       "1     74.0   15.6  76.5  \n",
       "2     86.0   33.2  79.3  \n",
       "3     80.0   33.8  75.7  \n",
       "4     76.0   29.9  68.7  \n",
       "..     ...    ...   ...  \n",
       "607  158.2  142.5  82.7  \n",
       "611   63.0   35.9  71.3  \n",
       "612   66.7   64.2  82.0  \n",
       "613   52.0   50.0  71.0  \n",
       "614   67.0   34.0  68.0  \n",
       "\n",
       "[584 rows x 13 columns]"
      ]
     },
     "execution_count": 30,
     "metadata": {},
     "output_type": "execute_result"
    }
   ],
   "source": [
    "aux = df.copy()\n",
    "df.replace(to_replace=\"0=Blood Donor\",value=0,regex=True,inplace=True)\n",
    "df.replace(to_replace=\"0s=suspect Blood Donor\",value=1,regex=True,inplace=True)\n",
    "df.replace(to_replace=\"1=Hepatitis\",value=2,regex=True,inplace=True)\n",
    "df.replace(to_replace=\"2=Fibrosis\",value=3,regex=True,inplace=True)\n",
    "df.replace(to_replace=\"3=Cirrhosis\",value=4,regex=True,inplace=True)\n",
    "df"
   ]
  },
  {
   "cell_type": "markdown",
   "id": "particular-mumbai",
   "metadata": {},
   "source": [
    "Separar en features y target"
   ]
  },
  {
   "cell_type": "code",
   "execution_count": 31,
   "id": "opened-procedure",
   "metadata": {},
   "outputs": [],
   "source": [
    "y = df['Category']\n",
    "x = df.copy()\n",
    "del x['Category']\n",
    "del x['Sex']"
   ]
  },
  {
   "cell_type": "markdown",
   "id": "earlier-invite",
   "metadata": {},
   "source": [
    "### Balanceado de datos\n",
    "\n",
    "Contar el número de muestras por clase."
   ]
  },
  {
   "cell_type": "code",
   "execution_count": 32,
   "id": "familiar-belief",
   "metadata": {},
   "outputs": [
    {
     "name": "stdout",
     "output_type": "stream",
     "text": [
      "Counter({0: 530, 2: 20, 3: 19, 4: 12, 1: 3})\n"
     ]
    }
   ],
   "source": [
    "counter = Counter(y)\n",
    "print(counter)"
   ]
  },
  {
   "cell_type": "markdown",
   "id": "faced-reservoir",
   "metadata": {},
   "source": [
    "### ADASYN\n",
    "\n",
    "Algoritmo para el balanceo de datos usando el k-ésimo vecino más cercano. [3]\n",
    "\n",
    "$\\textbf{Paso 1}$: Calcular el radio, minoría a mayoría.\n",
    "$$d = \\frac{\\text{clase minoritaria}}{\\text{clase mayoritaria}}$$\n",
    "\n",
    "$\\textbf{Paso 2}$: Calcular el número total de la minoria sintética a generar.\n",
    "\n",
    "$$G = (\\text{clase mayoritaria} - \\text{clase minoritaria}) \\cdot \\beta$$\n",
    "\n",
    "$\\textbf{Paso 3}$: Encontrar los k-ésimos vecinos de cada muestra minoritaria y calcular el valor $r_{i}$. El valor $r_{i}$ indica la dominancia de la clase mayoritaria.\n",
    "\n",
    "$$r_{i} = \\frac{\\text{número de la mayoría}}{k}$$\n",
    "\n",
    "$\\textbf{Paso 4}$: Normalizar los valores $r_{i}$\n",
    "\n",
    "$$\\hat{r_{i}} = \\frac{r_{i}}{\\sum r_{i}}$$\n",
    "\n",
    "$\\textbf{Paso 5}$: Calcular la cantidad de muestras sintéticas a generar por vecino.\n",
    "\n",
    "$$G_{i} = G \\cdot \\hat{r_{i}}$$\n",
    "\n",
    "$\\textbf{Paso 6}$: Generar $G_{i}$ para cada vecino.\n",
    "\n",
    "$$s_{i} = x_{i} + (x_{zi} - x_{i}) \\cdot \\lambda$$"
   ]
  },
  {
   "cell_type": "code",
   "execution_count": 33,
   "id": "perfect-console",
   "metadata": {},
   "outputs": [
    {
     "name": "stdout",
     "output_type": "stream",
     "text": [
      "Counter({2: 532, 1: 531, 0: 530, 3: 530, 4: 529})\n"
     ]
    }
   ],
   "source": [
    "oversample = ADASYN(n_neighbors=2)\n",
    "x,y = oversample.fit_resample(x,y)\n",
    "counter = Counter(y)\n",
    "print(counter)"
   ]
  },
  {
   "cell_type": "markdown",
   "id": "black-renewal",
   "metadata": {},
   "source": [
    "### Estandarización"
   ]
  },
  {
   "cell_type": "code",
   "execution_count": 34,
   "id": "solar-rider",
   "metadata": {},
   "outputs": [],
   "source": [
    "x = StandardScaler().fit_transform(x)\n",
    "x_std = pd.DataFrame(x)"
   ]
  },
  {
   "cell_type": "markdown",
   "id": "broad-hello",
   "metadata": {},
   "source": [
    "Separar en datos de entrenamiento y de prueba"
   ]
  },
  {
   "cell_type": "code",
   "execution_count": 35,
   "id": "wicked-formation",
   "metadata": {},
   "outputs": [],
   "source": [
    "x_train,x_test,y_train,y_test = train_test_split(x_std,y,test_size=0.20,random_state=1234)"
   ]
  },
  {
   "cell_type": "markdown",
   "id": "prompt-coating",
   "metadata": {},
   "source": [
    "## Aprendizaje\n",
    "\n",
    "### LogisticRegression\n",
    "\n",
    "Se basa en la función sigmoide. Que indica la probabilidad de que los datos pertenescan a alguna categoría o grupo. \n",
    "\n",
    "$\\hspace{6em} \\text{Sigmoide:} \\hspace{9em}  f(x) = \\frac{1}{1+e^{-x}}$\n",
    "\n",
    "$\\hspace{6em} \\text{Modelo:} \\hspace{9em} f_{w,b}(x) = \\frac{1}{1+e^{w x+b}}$\n",
    "\n",
    "Se hace uso de logarítmos para aproximar la ecuación de Costo.\n",
    "\n",
    "$\\hspace{6em} \\text{Costo:} \\hspace{3em} \\text{log}(L_{w,b}(x)) = \\sum_{i=1}^{N} y_{i} \\text{ln}(f(x)) + (1-y_{i}) \\text{ln}(1 - f_{w,b}(x))$"
   ]
  },
  {
   "cell_type": "code",
   "execution_count": 36,
   "id": "alert-bracelet",
   "metadata": {},
   "outputs": [
    {
     "data": {
      "image/png": "[encoded data removed]",
      "text/plain": [
       "<Figure size 432x288 with 1 Axes>"
      ]
     },
     "metadata": {
      "needs_background": "light"
     },
     "output_type": "display_data"
    }
   ],
   "source": [
    "train_score = []\n",
    "test_score = []\n",
    "Tol = []\n",
    "\n",
    "for i in range(1,100,5):\n",
    "    Tol.append(i*0.1)\n",
    "    clf = LogisticRegression(tol=i*0.1,max_iter=100)\n",
    "    clf.fit(x_train,y_train)\n",
    "    prediction =clf.predict(x_test)\n",
    "    train_score.append(clf.score(x_train,y_train))\n",
    "    test_score.append(clf.score(x_test,y_test))\n",
    "    \n",
    "plt.plot(Tol,train_score,'b',Tol,test_score,'r')\n",
    "plt.grid()\n",
    "plt.xlabel(\"tol\")\n",
    "plt.ylabel(\"score\")\n",
    "plt.legend([\"train score\",\"test score\"])\n",
    "plt.show()"
   ]
  },
  {
   "cell_type": "code",
   "execution_count": 37,
   "id": "affected-oxygen",
   "metadata": {},
   "outputs": [
    {
     "name": "stdout",
     "output_type": "stream",
     "text": [
      "train_score: 0.9354078264969354\n",
      "test_score: 0.9246704331450094\n"
     ]
    }
   ],
   "source": [
    "clf = LogisticRegression(tol=4,max_iter=100)\n",
    "clf.fit(x_train,y_train)\n",
    "LogisticRegression_prediction =clf.predict(x_test)\n",
    "train_score = clf.score(x_train,y_train)\n",
    "test_score = clf.score(x_test,y_test)\n",
    "print(\"train_score:\",train_score)\n",
    "print(\"test_score:\",test_score)"
   ]
  },
  {
   "cell_type": "markdown",
   "id": "unnecessary-pipeline",
   "metadata": {},
   "source": [
    "### SVM\n",
    "\n",
    "Support Vector Machine o Máchina de Vector de Soporte.\n",
    "\n",
    "$\\hspace{6em} \\text{Límite de decisión:} \\hspace{9em} w x - b = 0$\n",
    "\n",
    "$\\hspace{6em} \\text{Modelo:} \\hspace{9em} f(x) = \\text{sign}(w^{*}x-b^{*})$\n",
    "\n",
    "ventajas: buenas precisión opera bien con datos pequeños y limpios.\n",
    "\n",
    "descentajas: con datos de datos grandes es muy lento con datos ruidosos no funciona bien."
   ]
  },
  {
   "cell_type": "code",
   "execution_count": 38,
   "id": "determined-method",
   "metadata": {},
   "outputs": [
    {
     "data": {
      "image/png": "[encoded data removed]",
      "text/plain": [
       "<Figure size 432x288 with 1 Axes>"
      ]
     },
     "metadata": {
      "needs_background": "light"
     },
     "output_type": "display_data"
    }
   ],
   "source": [
    "train_score = []\n",
    "test_score = []\n",
    "C = []\n",
    "\n",
    "for c in range(1,10,1):\n",
    "    C.append(c)\n",
    "    clf = SVC(C=c)\n",
    "    clf.fit(x_train,y_train)\n",
    "    prediction =clf.predict(x_test)\n",
    "    train_score.append(clf.score(x_train,y_train))\n",
    "    test_score.append(clf.score(x_test,y_test))\n",
    "    \n",
    "plt.plot(C,train_score,'b',C,test_score,'r')\n",
    "plt.grid()\n",
    "plt.xlabel(\"C\")\n",
    "plt.ylabel(\"score\")\n",
    "plt.legend([\"train score\",\"test score\"])\n",
    "plt.show()"
   ]
  },
  {
   "cell_type": "code",
   "execution_count": 40,
   "id": "spiritual-conservative",
   "metadata": {},
   "outputs": [
    {
     "name": "stdout",
     "output_type": "stream",
     "text": [
      "train_score: 0.9985855728429985\n",
      "test_score: 0.992467043314501\n"
     ]
    }
   ],
   "source": [
    "clf = SVC(C=4)\n",
    "clf.fit(x_train,y_train)\n",
    "SVM_prediction =clf.predict(x_test)\n",
    "train_score = clf.score(x_train,y_train)\n",
    "test_score = clf.score(x_test,y_test)\n",
    "print(\"train_score:\",train_score)\n",
    "print(\"test_score:\",test_score)"
   ]
  },
  {
   "cell_type": "markdown",
   "id": "southwest-philadelphia",
   "metadata": {},
   "source": [
    "### kNN\n",
    "\n",
    "k Nearest Neighbors o el k-ésimo vecino más cercano.\n",
    "\n",
    "Se basa en la distancia Euclidiana entre la muestra y sus vecinos para elegir a cual clase pertenece.\n",
    "\n",
    "$\\hspace{12em} \\text{Disctance Euclidiana} = \\sqrt{\\Sigma_{i=0}^{n}(x_{i}-y_{i})} $"
   ]
  },
  {
   "cell_type": "code",
   "execution_count": 41,
   "id": "artistic-seven",
   "metadata": {},
   "outputs": [
    {
     "data": {
      "image/png": "[encoded data removed]",
      "text/plain": [
       "<Figure size 432x288 with 1 Axes>"
      ]
     },
     "metadata": {
      "needs_background": "light"
     },
     "output_type": "display_data"
    }
   ],
   "source": [
    "train_score = []\n",
    "test_score = []\n",
    "k_neighbors = []\n",
    "\n",
    "for k in range(1,25):\n",
    "    k_neighbors.append(k)\n",
    "    clf = KNeighborsClassifier(n_neighbors=k)\n",
    "    clf.fit(x_train,y_train)\n",
    "    prediction =clf.predict(x_test)\n",
    "    train_score.append(clf.score(x_train,y_train))\n",
    "    test_score.append(clf.score(x_test,y_test))\n",
    "    \n",
    "plt.plot(k_neighbors,train_score,'b',k_neighbors,test_score,'r')\n",
    "plt.grid()\n",
    "plt.xlabel(\"k\")\n",
    "plt.ylabel(\"score\")\n",
    "plt.legend([\"train score\",\"test score\"])\n",
    "plt.show()"
   ]
  },
  {
   "cell_type": "code",
   "execution_count": 42,
   "id": "sporting-assembly",
   "metadata": {},
   "outputs": [
    {
     "name": "stdout",
     "output_type": "stream",
     "text": [
      "train_score: 0.9938708156529938\n",
      "test_score: 0.9830508474576272\n"
     ]
    }
   ],
   "source": [
    "clf = KNeighborsClassifier(n_neighbors=3)\n",
    "clf.fit(x_train,y_train)\n",
    "kNN_prediction =clf.predict(x_test)\n",
    "train_score = clf.score(x_train,y_train)\n",
    "test_score = clf.score(x_test,y_test)\n",
    "print(\"train_score:\",train_score)\n",
    "print(\"test_score:\",test_score)"
   ]
  },
  {
   "cell_type": "markdown",
   "id": "agricultural-appearance",
   "metadata": {},
   "source": [
    "### Naïve Bayes\n",
    "\n",
    "GaussianNB: Se usa para distribución gaussiana de los datos donde todos los atributos son independientes entre sí. Se basa en el teorema de Bayes.\n",
    "\n",
    "$P(A|B) = \\frac{P(B|A) P(A)}{P(B)}$"
   ]
  },
  {
   "cell_type": "code",
   "execution_count": 43,
   "id": "gothic-convert",
   "metadata": {},
   "outputs": [
    {
     "data": {
      "image/png": "[encoded data removed]",
      "text/plain": [
       "<Figure size 432x288 with 1 Axes>"
      ]
     },
     "metadata": {
      "needs_background": "light"
     },
     "output_type": "display_data"
    }
   ],
   "source": [
    "Var_Smoothing = []\n",
    "train_score = []\n",
    "test_score = []\n",
    "\n",
    "for vs in range(0,10):\n",
    "    Var_Smoothing.append(10**-vs)\n",
    "    clf = GaussianNB(var_smoothing=10**-vs)\n",
    "    clf.fit(x_train,y_train)\n",
    "    NaiveBayes_prediction =clf.predict(x_test)\n",
    "    train_score.append(clf.score(x_train,y_train))\n",
    "    test_score.append(clf.score(x_test,y_test))\n",
    "\n",
    "plt.plot(Var_Smoothing,train_score,'b',Var_Smoothing,test_score,'r')\n",
    "plt.grid()\n",
    "plt.xlabel(\"var_smoothing\")\n",
    "plt.ylabel(\"score\")\n",
    "plt.legend([\"train score\",\"test score\"])\n",
    "plt.show()"
   ]
  },
  {
   "cell_type": "code",
   "execution_count": 44,
   "id": "related-drilling",
   "metadata": {},
   "outputs": [
    {
     "name": "stdout",
     "output_type": "stream",
     "text": [
      "train_score: 0.8312116925978312\n",
      "test_score: 0.8210922787193974\n"
     ]
    }
   ],
   "source": [
    "clf = GaussianNB(var_smoothing=0)\n",
    "clf.fit(x_train,y_train)\n",
    "NaiveBayes_prediction =clf.predict(x_test)\n",
    "train_score = clf.score(x_train,y_train)\n",
    "test_score = clf.score(x_test,y_test)\n",
    "print(\"train_score:\",train_score)\n",
    "print(\"test_score:\",test_score)"
   ]
  },
  {
   "cell_type": "markdown",
   "id": "upper-poker",
   "metadata": {},
   "source": [
    "### LDA\n",
    "\n",
    "Linear Discriminant Analysis [6]\n",
    "\n",
    "Es una técnica de reducción de dimensiones o reducción de features.\n",
    "Se busca encontrar nuevos ejes para las clases, en el que la división sea máxima.\n",
    "\n",
    "<img src=\"./LinearDiscriminantAnalysis.png\" width=\"400\">\n",
    "\n",
    "Paso 1: Buscar las matrices de disperción\n",
    "\n",
    "$S_{c} = \\sum_{i \\in c} (x_{i} - \\tilde{x}_{c}) \\cdot (x_{i} - \\tilde{x}_{c})^{T}$.\n",
    "\n",
    "$S_{w} = \\sum_{c} S_{c}$. Da una buena separación entre las muestras de la misma clase.\n",
    "\n",
    "* $x_{c}$ representa cada feature.\n",
    "* $\\tilde{x}_{c}$ la media.\n",
    "* $n_{c}$ los labels.\n",
    "* $\\tilde{x}$ el promedio total.\n",
    "\n",
    "$S_{B} = \\sum_{c} n_{c} \\cdot (\\tilde{x}_{c} - \\tilde{x}) \\cdot (\\tilde{x}_{c} - \\tilde{x})^{T}$. Da una buena separación entre las muestras de clases distintas.\n",
    "\n",
    "\n",
    "Paso 2: Se busca calcular los auto valores y auto vectores de $S_{W}^{-1} S_{B}$.\n",
    "\n",
    "Paso 3: Se acomodan en orden decreciente.\n",
    "\n",
    "Paso 4: Se eligen los primeros k vectores. También llamados Disciminantes Lineales.\n",
    "\n",
    "Paso 5: Se tranforman las dimensiones originales en las nuevas k-dimensiones. Esto se logra mediante una proyección con el producto punto."
   ]
  },
  {
   "cell_type": "code",
   "execution_count": 45,
   "id": "collective-grant",
   "metadata": {},
   "outputs": [
    {
     "data": {
      "image/png": "[encoded data removed]",
      "text/plain": [
       "<Figure size 432x288 with 1 Axes>"
      ]
     },
     "metadata": {
      "needs_background": "light"
     },
     "output_type": "display_data"
    }
   ],
   "source": [
    "Tol = []\n",
    "train_score = []\n",
    "test_score = []\n",
    "\n",
    "for t in range(1,10):\n",
    "    Tol.append(1/t)\n",
    "    clf = LDA(tol=1/t)\n",
    "    clf.fit(x_train,y_train)\n",
    "    LDA_prediction =clf.predict(x_test)\n",
    "    train_score.append(clf.score(x_train,y_train))\n",
    "    test_score.append(clf.score(x_test,y_test))\n",
    "\n",
    "plt.plot(Tol,train_score,'b',Tol,test_score,'r')\n",
    "plt.grid()\n",
    "plt.xlabel(\"Tol\")\n",
    "plt.ylabel(\"score\")\n",
    "plt.legend([\"train score\",\"test score\"])\n",
    "plt.show()"
   ]
  },
  {
   "cell_type": "code",
   "execution_count": 46,
   "id": "undefined-beaver",
   "metadata": {},
   "outputs": [
    {
     "name": "stdout",
     "output_type": "stream",
     "text": [
      "train_score: 0.8684582743988685\n",
      "test_score: 0.8625235404896422\n"
     ]
    }
   ],
   "source": [
    "clf = LDA(tol=0.1)\n",
    "clf.fit(x_train,y_train)\n",
    "LDA_prediction =clf.predict(x_test)\n",
    "train_score = clf.score(x_train,y_train)\n",
    "test_score = clf.score(x_test,y_test)\n",
    "print(\"train_score:\",train_score)\n",
    "print(\"test_score:\",test_score)"
   ]
  },
  {
   "cell_type": "markdown",
   "id": "complete-vegetable",
   "metadata": {},
   "source": [
    "## Métricas de evaluación"
   ]
  },
  {
   "cell_type": "markdown",
   "id": "soviet-rwanda",
   "metadata": {},
   "source": [
    "### Accuracy\n",
    "\n",
    "$$\\text{Accuracy} = \\frac{\\text{Número de casos correctas}}{\\text{Total de casos}}$$\n",
    "\n",
    "Es el método más sencillo para evaluar el rendimiento.\n",
    "\n",
    "No es bueno ante datos no balanceados"
   ]
  },
  {
   "cell_type": "code",
   "execution_count": 47,
   "id": "lonely-quebec",
   "metadata": {},
   "outputs": [
    {
     "name": "stdout",
     "output_type": "stream",
     "text": [
      "| Logistic Regression Accuracy | 0.9246704331450094 |\n",
      "| SVM Accuracy                 | 0.992467043314501  |\n",
      "| kNN Accuracy                 | 0.9830508474576272 |\n",
      "| Naive Bayes Accuracy         | 0.8210922787193974 |\n",
      "| LDA Accuracy                 | 0.8625235404896422 |\n"
     ]
    }
   ],
   "source": [
    "print(\"| Logistic Regression Accuracy |\",accuracy_score(y_test,LogisticRegression_prediction),\"|\")\n",
    "print(\"| SVM Accuracy                 |\",accuracy_score(y_test,SVM_prediction),\" |\")\n",
    "print(\"| kNN Accuracy                 |\",accuracy_score(y_test,kNN_prediction),\"|\")\n",
    "print(\"| Naive Bayes Accuracy         |\",accuracy_score(y_test,NaiveBayes_prediction),\"|\")\n",
    "print(\"| LDA Accuracy                 |\",accuracy_score(y_test,LDA_prediction),\"|\")"
   ]
  },
  {
   "cell_type": "markdown",
   "id": "moving-religion",
   "metadata": {},
   "source": [
    "### Recall\n",
    "\n",
    "$$\\text{Recall} = \\frac{\\text{Positivos verdaderos}}{\\text{Positivos verdaderos + Negativos falsos}}$$\n",
    "\n",
    "Recall: es la sensivilidad. Los casos positivos identificados como correctos entre los casos positivos reales. En otras palabras, la habilidad del modelo de encontrar loas casos relevantes.\n",
    "\n",
    "Se usa más que todo con datos no balanceados.\n"
   ]
  },
  {
   "cell_type": "code",
   "execution_count": 48,
   "id": "civilian-bread",
   "metadata": {},
   "outputs": [
    {
     "name": "stdout",
     "output_type": "stream",
     "text": [
      "| Logistic Regression Accuracy | 0.9230976529538051 |\n",
      "| SVM Accuracy                 | 0.9932203389830508  |\n",
      "| kNN Accuracy                 | 0.9847457627118643 |\n",
      "| Naive Bayes Accuracy         | 0.826425110158054 |\n",
      "| LDA Accuracy                 | 0.8639391439236654 |\n"
     ]
    }
   ],
   "source": [
    "print(\"| Logistic Regression Accuracy |\",recall_score(y_test,LogisticRegression_prediction,average='macro'),\"|\")\n",
    "print(\"| SVM Accuracy                 |\",recall_score(y_test,SVM_prediction,average='macro'),\" |\")\n",
    "print(\"| kNN Accuracy                 |\",recall_score(y_test,kNN_prediction,average='macro'),\"|\")\n",
    "print(\"| Naive Bayes Accuracy         |\",recall_score(y_test,NaiveBayes_prediction,average='macro'),\"|\")\n",
    "print(\"| LDA Accuracy                 |\",recall_score(y_test,LDA_prediction,average='macro'),\"|\")"
   ]
  },
  {
   "cell_type": "markdown",
   "id": "olympic-literature",
   "metadata": {},
   "source": [
    "### Precision\n",
    "\n",
    "$$\\text{Precision} = \\frac{\\text{Positivos verdaderos}}{\\text{Positivos verdaderos} + \\text{Negativos verdaderos}}$$\n",
    "\n",
    "Precision: Que tan cerca estan las medidas entre sí. Sin importar que estén cerca o lejos del valor deceado."
   ]
  },
  {
   "cell_type": "code",
   "execution_count": 49,
   "id": "severe-atlantic",
   "metadata": {},
   "outputs": [
    {
     "name": "stdout",
     "output_type": "stream",
     "text": [
      "| Logistic Regression Accuracy | 0.922533559824841 |\n",
      "| SVM Accuracy                 | 0.9923359002566923  |\n",
      "| kNN Accuracy                 | 0.9819053472031884 |\n",
      "| Naive Bayes Accuracy         | 0.8376500775830596 |\n",
      "| LDA Accuracy                 | 0.8617566746978513 |\n"
     ]
    }
   ],
   "source": [
    "from sklearn.metrics import precision_score\n",
    "\n",
    "print(\"| Logistic Regression Accuracy |\",precision_score(y_test,LogisticRegression_prediction,average='macro'),\"|\")\n",
    "print(\"| SVM Accuracy                 |\",precision_score(y_test,SVM_prediction,average='macro'),\" |\")\n",
    "print(\"| kNN Accuracy                 |\",precision_score(y_test,kNN_prediction,average='macro'),\"|\")\n",
    "print(\"| Naive Bayes Accuracy         |\",precision_score(y_test,NaiveBayes_prediction,average='macro'),\"|\")\n",
    "print(\"| LDA Accuracy                 |\",precision_score(y_test,LDA_prediction,average='macro'),\"|\")"
   ]
  },
  {
   "cell_type": "markdown",
   "id": "academic-operation",
   "metadata": {},
   "source": [
    "### F1-Score\n",
    "\n",
    "$$\\text{F1-Score} = \\frac{2 \\cdot \\text{Precision} \\cdot\\text{Recall}}{\\text{Precision}+\\text{Recall}}$$\n",
    "\n",
    "Es la media armónica de *Precision* y *Recall*."
   ]
  },
  {
   "cell_type": "code",
   "execution_count": 50,
   "id": "independent-maria",
   "metadata": {},
   "outputs": [
    {
     "name": "stdout",
     "output_type": "stream",
     "text": [
      "| Logistic Regression Accuracy | 0.92275785028281 |\n",
      "| SVM Accuracy                 | 0.9926825652594264  |\n",
      "| kNN Accuracy                 | 0.9828838984130316 |\n",
      "| Naive Bayes Accuracy         | 0.8199296813845984 |\n",
      "| LDA Accuracy                 | 0.8609768953268585 |\n"
     ]
    }
   ],
   "source": [
    "print(\"| Logistic Regression Accuracy |\",f1_score(y_test,LogisticRegression_prediction,average='macro'),\"|\")\n",
    "print(\"| SVM Accuracy                 |\",f1_score(y_test,SVM_prediction,average='macro'),\" |\")\n",
    "print(\"| kNN Accuracy                 |\",f1_score(y_test,kNN_prediction,average='macro'),\"|\")\n",
    "print(\"| Naive Bayes Accuracy         |\",f1_score(y_test,NaiveBayes_prediction,average='macro'),\"|\")\n",
    "print(\"| LDA Accuracy                 |\",f1_score(y_test,LDA_prediction,average='macro'),\"|\")"
   ]
  },
  {
   "cell_type": "markdown",
   "id": "stopped-edwards",
   "metadata": {},
   "source": [
    "### Grid Search \n",
    "\n",
    "Esta métrica verifica cada hiperparámetro del método elegino para dar como resultado cuales son la mejor combinación de hiperparámetros para dicho método."
   ]
  },
  {
   "cell_type": "code",
   "execution_count": 52,
   "id": "spoken-commonwealth",
   "metadata": {},
   "outputs": [
    {
     "data": {
      "text/plain": [
       "GridSearchCV(cv=5, estimator=SVC(),\n",
       "             param_grid=[{'C': [1, 10, 100, 1000], 'gamma': [0.001, 0.0001],\n",
       "                          'kernel': ['rbf']},\n",
       "                         {'C': [1, 10, 100, 1000], 'kernel': ['linear']}],\n",
       "             scoring='f1_macro')"
      ]
     },
     "execution_count": 52,
     "metadata": {},
     "output_type": "execute_result"
    }
   ],
   "source": [
    "from sklearn.model_selection import GridSearchCV\n",
    "\n",
    "#GridSearchCV?\n",
    "param_grid = [\n",
    "    {'C':[1,10,100,1000],'kernel':['linear']},\n",
    "    {'C':[1,10,100,1000],'gamma':[0.001,0.0001],'kernel':['rbf']},\n",
    "]\n",
    "\n",
    "tuned_parameters = [\n",
    "    {'kernel':['rbf'],'gamma':[1e-3,1e-4],'C':[1,10,100,1000]},\n",
    "    {'kernel':['linear'],'C':[1,10,100,1000]}\n",
    "]\n",
    "\n",
    "clf = GridSearchCV(SVC(),tuned_parameters,cv=5,scoring='f1_macro')\n",
    "clf.fit(x_train,y_train)"
   ]
  },
  {
   "cell_type": "code",
   "execution_count": 53,
   "id": "moving-cookie",
   "metadata": {},
   "outputs": [
    {
     "data": {
      "text/plain": [
       "{'C': 1000, 'gamma': 0.001, 'kernel': 'rbf'}"
      ]
     },
     "execution_count": 53,
     "metadata": {},
     "output_type": "execute_result"
    }
   ],
   "source": [
    "clf.best_params_"
   ]
  },
  {
   "cell_type": "code",
   "execution_count": 58,
   "id": "representative-disabled",
   "metadata": {},
   "outputs": [],
   "source": [
    "#clf.cv_results_"
   ]
  },
  {
   "cell_type": "code",
   "execution_count": 57,
   "id": "appointed-questionnaire",
   "metadata": {},
   "outputs": [
    {
     "name": "stdout",
     "output_type": "stream",
     "text": [
      "              precision    recall  f1-score   support\n",
      "\n",
      "           0       0.98      0.94      0.96       118\n",
      "           1       1.00      1.00      1.00        99\n",
      "           2       0.96      1.00      0.98       106\n",
      "           3       0.99      0.97      0.98        87\n",
      "           4       0.98      1.00      0.99       121\n",
      "\n",
      "    accuracy                           0.98       531\n",
      "   macro avg       0.98      0.98      0.98       531\n",
      "weighted avg       0.98      0.98      0.98       531\n",
      "\n"
     ]
    }
   ],
   "source": [
    "from sklearn.metrics import classification_report\n",
    "y_pred = clf.predict(x_test)\n",
    "print(classification_report(y_test,y_pred))"
   ]
  },
  {
   "cell_type": "markdown",
   "id": "controversial-variety",
   "metadata": {},
   "source": [
    "### Validación cruzada\n",
    "\n",
    "La validación cruzada o cross validation prueba el algoritmo del método elegido varias veces para comprabar cual de los métodos es el más eficiente. Por ejemplo en la validación cruzada se entrena al algoritmo con partes del dataset cada vez distintas al igual que para realizar la prueba."
   ]
  },
  {
   "cell_type": "code",
   "execution_count": 51,
   "id": "inclusive-literature",
   "metadata": {},
   "outputs": [
    {
     "name": "stdout",
     "output_type": "stream",
     "text": [
      "============================================================\n",
      "LogisticRegression_prediction \n",
      "\n",
      "results: [0.84557439 0.86629002 0.92830189 0.9245283  0.79245283]\n",
      "mean: 0.8714294851295172\n",
      "============================================================\n",
      "SVM \n",
      "\n",
      "results: [0.97551789 0.99811676 0.98490566 1.         0.96981132]\n",
      "mean: 0.9856703265465658\n",
      "============================================================\n",
      "kNN \n",
      "\n",
      "results: [0.92843691 0.94538606 0.9754717  0.99245283 0.94339623]\n",
      "mean: 0.9570287460469744\n",
      "============================================================\n",
      "NaiveBayes \n",
      "\n",
      "results: [0.69491525 0.77212806 0.81698113 0.76037736 0.71320755]\n",
      "mean: 0.7515218704473582\n",
      "============================================================\n",
      "LDA \n",
      "\n",
      "results: [0.71939736 0.79096045 0.86792453 0.83962264 0.79056604]\n",
      "mean: 0.8016942045979463\n"
     ]
    }
   ],
   "source": [
    "print(\"============================================================\")\n",
    "print(\"LogisticRegression_prediction \\n\")\n",
    "model = LogisticRegression(tol=4,max_iter=100)\n",
    "results = cross_val_score(model,x,y,cv=5)\n",
    "print(\"results:\",results)\n",
    "print(\"mean:\",np.mean(results))\n",
    "\n",
    "print(\"============================================================\")\n",
    "print(\"SVM \\n\")\n",
    "model = SVC(C=4)\n",
    "results = cross_val_score(model,x,y,cv=5)\n",
    "print(\"results:\",results)\n",
    "print(\"mean:\",np.mean(results))\n",
    "\n",
    "print(\"============================================================\")\n",
    "print(\"kNN \\n\")\n",
    "model = KNeighborsClassifier(n_neighbors=3)\n",
    "results = cross_val_score(model,x,y,cv=5)\n",
    "print(\"results:\",results)\n",
    "print(\"mean:\",np.mean(results))\n",
    "\n",
    "print(\"============================================================\")\n",
    "print(\"NaiveBayes \\n\")\n",
    "model = GaussianNB(var_smoothing=1)\n",
    "results = cross_val_score(model,x,y,cv=5)\n",
    "print(\"results:\",results)\n",
    "print(\"mean:\",np.mean(results))\n",
    "\n",
    "print(\"============================================================\")\n",
    "print(\"LDA \\n\")\n",
    "model = LDA(tol=0.1)\n",
    "results = cross_val_score(model,x,y,cv=5)\n",
    "print(\"results:\",results)\n",
    "print(\"mean:\",np.mean(results))"
   ]
  },
  {
   "cell_type": "markdown",
   "id": "perceived-africa",
   "metadata": {},
   "source": [
    "## Conclusiones\n",
    "\n",
    "..."
   ]
  },
  {
   "cell_type": "markdown",
   "id": "disciplinary-orientation",
   "metadata": {},
   "source": [
    "## Referencias\n",
    "\n",
    "* [1] [Dataset](https://archive.ics.uci.edu/ml/datasets/HCV+data)\n",
    "* [2] [Enciclopedia médica de la Universidad de Rochester](https://www.urmc.rochester.edu/encyclopedia.aspx)\n",
    "* [3] [Fixing Imbalanced Datasets: An Introduction to ADASYN](https://medium.com/@ruinian/an-introduction-to-adasyn-with-code-1383a5ece7aa)\n",
    "* [4] [imblearn.over_sampling.ADASYN](http://glemaitre.github.io/imbalanced-learn/generated/imblearn.over_sampling.ADASYN.html)\n",
    "* [5] [scikit learn](https://scikit-learn.org/stable/index.html)\n",
    "* [6] [LDA](https://www.youtube.com/watch?v=9IDXYHhAfGA)"
   ]
  },
  {
   "cell_type": "code",
   "execution_count": null,
   "id": "killing-command",
   "metadata": {},
   "outputs": [],
   "source": []
  }
 ],
 "metadata": {
  "kernelspec": {
   "display_name": "Python 3",
   "language": "python",
   "name": "python3"
  },
  "language_info": {
   "codemirror_mode": {
    "name": "ipython",
    "version": 3
   },
   "file_extension": ".py",
   "mimetype": "text/x-python",
   "name": "python",
   "nbconvert_exporter": "python",
   "pygments_lexer": "ipython3",
   "version": "3.9.1"
  }
 },
 "nbformat": 4,
 "nbformat_minor": 5
}
